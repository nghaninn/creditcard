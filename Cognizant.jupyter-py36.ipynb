{
 "cells": [
  {
   "cell_type": "code",
   "execution_count": 1,
   "metadata": {},
   "outputs": [
    {
     "data": {
      "text/html": [
       "<div>\n",
       "<style scoped>\n",
       "    .dataframe tbody tr th:only-of-type {\n",
       "        vertical-align: middle;\n",
       "    }\n",
       "\n",
       "    .dataframe tbody tr th {\n",
       "        vertical-align: top;\n",
       "    }\n",
       "\n",
       "    .dataframe thead th {\n",
       "        text-align: right;\n",
       "    }\n",
       "</style>\n",
       "<table border=\"1\" class=\"dataframe\">\n",
       "  <thead>\n",
       "    <tr style=\"text-align: right;\">\n",
       "      <th></th>\n",
       "      <th>Seconds since reference time</th>\n",
       "      <th>Amount</th>\n",
       "      <th>Fraud? (1: Fraud, 0:  No Fraud)</th>\n",
       "      <th>Feature 1</th>\n",
       "      <th>Feature 2</th>\n",
       "      <th>Feature 3</th>\n",
       "      <th>Feature 4</th>\n",
       "      <th>Feature 5</th>\n",
       "      <th>Feature 6</th>\n",
       "      <th>Feature 7</th>\n",
       "      <th>...</th>\n",
       "      <th>Feature 20</th>\n",
       "      <th>Feature 21</th>\n",
       "      <th>Feature 22</th>\n",
       "      <th>Feature 23</th>\n",
       "      <th>Feature 24</th>\n",
       "      <th>Feature 25</th>\n",
       "      <th>Feature 26</th>\n",
       "      <th>Feature 27</th>\n",
       "      <th>Feature 28</th>\n",
       "      <th>Feature 29</th>\n",
       "    </tr>\n",
       "  </thead>\n",
       "  <tbody>\n",
       "    <tr>\n",
       "      <th>0</th>\n",
       "      <td>0</td>\n",
       "      <td>149.62</td>\n",
       "      <td>0</td>\n",
       "      <td>1.468177</td>\n",
       "      <td>-0.470401</td>\n",
       "      <td>0.207971</td>\n",
       "      <td>0.025791</td>\n",
       "      <td>0.403993</td>\n",
       "      <td>0.251412</td>\n",
       "      <td>-0.018307</td>\n",
       "      <td>...</td>\n",
       "      <td>0.462388</td>\n",
       "      <td>0.239599</td>\n",
       "      <td>0.098698</td>\n",
       "      <td>-6.399372</td>\n",
       "      <td>-0.311169</td>\n",
       "      <td>-0.991390</td>\n",
       "      <td>-0.617801</td>\n",
       "      <td>-0.551600</td>\n",
       "      <td>0.090794</td>\n",
       "      <td>0.363787</td>\n",
       "    </tr>\n",
       "    <tr>\n",
       "      <th>1</th>\n",
       "      <td>0</td>\n",
       "      <td>2.69</td>\n",
       "      <td>0</td>\n",
       "      <td>0.635558</td>\n",
       "      <td>0.463917</td>\n",
       "      <td>-0.114805</td>\n",
       "      <td>-0.183361</td>\n",
       "      <td>-0.145783</td>\n",
       "      <td>-0.069083</td>\n",
       "      <td>-0.225775</td>\n",
       "      <td>...</td>\n",
       "      <td>-0.082361</td>\n",
       "      <td>-0.078803</td>\n",
       "      <td>0.085102</td>\n",
       "      <td>13.786441</td>\n",
       "      <td>-0.143772</td>\n",
       "      <td>0.489095</td>\n",
       "      <td>1.065235</td>\n",
       "      <td>1.612727</td>\n",
       "      <td>-0.166974</td>\n",
       "      <td>-0.255425</td>\n",
       "    </tr>\n",
       "    <tr>\n",
       "      <th>2</th>\n",
       "      <td>1</td>\n",
       "      <td>378.66</td>\n",
       "      <td>0</td>\n",
       "      <td>2.345865</td>\n",
       "      <td>-2.890083</td>\n",
       "      <td>1.109969</td>\n",
       "      <td>-0.121359</td>\n",
       "      <td>-2.261857</td>\n",
       "      <td>0.524980</td>\n",
       "      <td>0.247998</td>\n",
       "      <td>...</td>\n",
       "      <td>1.800499</td>\n",
       "      <td>0.791461</td>\n",
       "      <td>0.247676</td>\n",
       "      <td>-10.515321</td>\n",
       "      <td>-0.165946</td>\n",
       "      <td>0.717293</td>\n",
       "      <td>0.066084</td>\n",
       "      <td>0.624501</td>\n",
       "      <td>0.207643</td>\n",
       "      <td>-1.514654</td>\n",
       "    </tr>\n",
       "    <tr>\n",
       "      <th>3</th>\n",
       "      <td>1</td>\n",
       "      <td>123.50</td>\n",
       "      <td>0</td>\n",
       "      <td>-0.631418</td>\n",
       "      <td>-1.059647</td>\n",
       "      <td>-0.684093</td>\n",
       "      <td>1.965775</td>\n",
       "      <td>-1.232622</td>\n",
       "      <td>-0.208038</td>\n",
       "      <td>-0.108300</td>\n",
       "      <td>...</td>\n",
       "      <td>1.247203</td>\n",
       "      <td>0.237609</td>\n",
       "      <td>0.377436</td>\n",
       "      <td>2.961038</td>\n",
       "      <td>-0.287924</td>\n",
       "      <td>0.507757</td>\n",
       "      <td>0.178228</td>\n",
       "      <td>-0.226487</td>\n",
       "      <td>-0.054952</td>\n",
       "      <td>-1.387024</td>\n",
       "    </tr>\n",
       "    <tr>\n",
       "      <th>4</th>\n",
       "      <td>2</td>\n",
       "      <td>69.99</td>\n",
       "      <td>0</td>\n",
       "      <td>0.175121</td>\n",
       "      <td>-0.451449</td>\n",
       "      <td>-0.237033</td>\n",
       "      <td>-0.038195</td>\n",
       "      <td>0.803487</td>\n",
       "      <td>0.408542</td>\n",
       "      <td>-0.009431</td>\n",
       "      <td>...</td>\n",
       "      <td>0.095921</td>\n",
       "      <td>0.592941</td>\n",
       "      <td>-0.270533</td>\n",
       "      <td>2.751346</td>\n",
       "      <td>-1.119670</td>\n",
       "      <td>1.345852</td>\n",
       "      <td>0.538196</td>\n",
       "      <td>-0.822843</td>\n",
       "      <td>0.753074</td>\n",
       "      <td>0.817739</td>\n",
       "    </tr>\n",
       "  </tbody>\n",
       "</table>\n",
       "<p>5 rows × 32 columns</p>\n",
       "</div>"
      ],
      "text/plain": [
       "   Seconds since reference time  Amount  Fraud? (1: Fraud, 0:  No Fraud)  \\\n",
       "0                             0  149.62                                0   \n",
       "1                             0    2.69                                0   \n",
       "2                             1  378.66                                0   \n",
       "3                             1  123.50                                0   \n",
       "4                             2   69.99                                0   \n",
       "\n",
       "   Feature 1  Feature 2  Feature 3  Feature 4  Feature 5  Feature 6  \\\n",
       "0   1.468177  -0.470401   0.207971   0.025791   0.403993   0.251412   \n",
       "1   0.635558   0.463917  -0.114805  -0.183361  -0.145783  -0.069083   \n",
       "2   2.345865  -2.890083   1.109969  -0.121359  -2.261857   0.524980   \n",
       "3  -0.631418  -1.059647  -0.684093   1.965775  -1.232622  -0.208038   \n",
       "4   0.175121  -0.451449  -0.237033  -0.038195   0.803487   0.408542   \n",
       "\n",
       "   Feature 7     ...      Feature 20  Feature 21  Feature 22  Feature 23  \\\n",
       "0  -0.018307     ...        0.462388    0.239599    0.098698   -6.399372   \n",
       "1  -0.225775     ...       -0.082361   -0.078803    0.085102   13.786441   \n",
       "2   0.247998     ...        1.800499    0.791461    0.247676  -10.515321   \n",
       "3  -0.108300     ...        1.247203    0.237609    0.377436    2.961038   \n",
       "4  -0.009431     ...        0.095921    0.592941   -0.270533    2.751346   \n",
       "\n",
       "   Feature 24  Feature 25  Feature 26  Feature 27  Feature 28  Feature 29  \n",
       "0   -0.311169   -0.991390   -0.617801   -0.551600    0.090794    0.363787  \n",
       "1   -0.143772    0.489095    1.065235    1.612727   -0.166974   -0.255425  \n",
       "2   -0.165946    0.717293    0.066084    0.624501    0.207643   -1.514654  \n",
       "3   -0.287924    0.507757    0.178228   -0.226487   -0.054952   -1.387024  \n",
       "4   -1.119670    1.345852    0.538196   -0.822843    0.753074    0.817739  \n",
       "\n",
       "[5 rows x 32 columns]"
      ]
     },
     "execution_count": 1,
     "metadata": {},
     "output_type": "execute_result"
    }
   ],
   "source": [
    "\n",
    "import lightgbm as lgb\n",
    "import seaborn as sns\n",
    "import numpy as np\n",
    "import matplotlib.pyplot as plt\n",
    "from xgboost import XGBClassifier\n",
    "from sklearn.feature_selection import RFE\n",
    "from sklearn.linear_model import LogisticRegression\n",
    "from sklearn.linear_model import LinearRegression\n",
    "import statsmodels.api as sm\n",
    "from sklearn.preprocessing import LabelEncoder\n",
    "from sklearn.metrics import mean_squared_error, r2_score\n",
    "from sklearn.model_selection import train_test_split\n",
    "from sklearn.preprocessing import MinMaxScaler\n",
    "import math \n",
    "import os, pandas as pd\n",
    "from scipy import stats\n",
    "# Add asset from file system\n",
    "df_data_1 = pd.read_csv(os.environ['DSX_PROJECT_DIR']+'/datasets/creditcard-training set v2.csv')\n",
    "df_data_1.head()\n",
    "\n"
   ]
  },
  {
   "cell_type": "code",
   "execution_count": null,
   "metadata": {},
   "outputs": [],
   "source": [
    "df_data_1['Seconds since reference time'].mean()/3600"
   ]
  },
  {
   "cell_type": "code",
   "execution_count": 2,
   "metadata": {},
   "outputs": [
    {
     "data": {
      "text/plain": [
       "Seconds since reference time        0\n",
       "Amount                              0\n",
       "Fraud? (1: Fraud, 0:  No Fraud)     0\n",
       "Feature 1                           0\n",
       "Feature 2                           0\n",
       "Feature 3                           0\n",
       "Feature 4                           0\n",
       "Feature 5                          27\n",
       "Feature 6                          59\n",
       "Feature 7                           0\n",
       "Feature 8                           0\n",
       "Feature 9                           0\n",
       "Feature 10                          0\n",
       "Feature 11                          0\n",
       "Feature 12                          0\n",
       "Feature 13                          0\n",
       "Feature 14                          0\n",
       "Feature 15                          0\n",
       "Feature 16                          0\n",
       "Feature 17                          0\n",
       "Feature 18                          0\n",
       "Feature 19                          0\n",
       "Feature 20                          0\n",
       "Feature 21                          0\n",
       "Feature 22                          0\n",
       "Feature 23                          0\n",
       "Feature 24                          0\n",
       "Feature 25                          0\n",
       "Feature 26                          0\n",
       "Feature 27                          0\n",
       "Feature 28                          0\n",
       "Feature 29                          0\n",
       "dtype: int64"
      ]
     },
     "execution_count": 2,
     "metadata": {},
     "output_type": "execute_result"
    }
   ],
   "source": [
    "#checking for null values\n",
    "df_data_1.isnull().sum()\n",
    "#feature 5 and feature 6 has null values. Needs fixing later.\n"
   ]
  },
  {
   "cell_type": "code",
   "execution_count": 3,
   "metadata": {},
   "outputs": [],
   "source": [
    "# we'll try filling them with 0 for now.\n",
    "df_data_1 = df_data_1.fillna(0)"
   ]
  },
  {
   "cell_type": "code",
   "execution_count": 4,
   "metadata": {},
   "outputs": [
    {
     "data": {
      "text/html": [
       "<div>\n",
       "<style scoped>\n",
       "    .dataframe tbody tr th:only-of-type {\n",
       "        vertical-align: middle;\n",
       "    }\n",
       "\n",
       "    .dataframe tbody tr th {\n",
       "        vertical-align: top;\n",
       "    }\n",
       "\n",
       "    .dataframe thead th {\n",
       "        text-align: right;\n",
       "    }\n",
       "</style>\n",
       "<table border=\"1\" class=\"dataframe\">\n",
       "  <thead>\n",
       "    <tr style=\"text-align: right;\">\n",
       "      <th></th>\n",
       "      <th>Seconds since reference time</th>\n",
       "      <th>Amount</th>\n",
       "      <th>Fraud? (1: Fraud, 0:  No Fraud)</th>\n",
       "      <th>Feature 1</th>\n",
       "      <th>Feature 2</th>\n",
       "      <th>Feature 3</th>\n",
       "      <th>Feature 4</th>\n",
       "      <th>Feature 5</th>\n",
       "      <th>Feature 6</th>\n",
       "      <th>Feature 7</th>\n",
       "      <th>...</th>\n",
       "      <th>Feature 20</th>\n",
       "      <th>Feature 21</th>\n",
       "      <th>Feature 22</th>\n",
       "      <th>Feature 23</th>\n",
       "      <th>Feature 24</th>\n",
       "      <th>Feature 25</th>\n",
       "      <th>Feature 26</th>\n",
       "      <th>Feature 27</th>\n",
       "      <th>Feature 28</th>\n",
       "      <th>Feature 29</th>\n",
       "    </tr>\n",
       "  </thead>\n",
       "  <tbody>\n",
       "    <tr>\n",
       "      <th>count</th>\n",
       "      <td>227844.000000</td>\n",
       "      <td>227844.000000</td>\n",
       "      <td>227844.000000</td>\n",
       "      <td>227844.000000</td>\n",
       "      <td>227844.000000</td>\n",
       "      <td>227844.000000</td>\n",
       "      <td>227844.000000</td>\n",
       "      <td>227844.000000</td>\n",
       "      <td>227844.000000</td>\n",
       "      <td>227844.000000</td>\n",
       "      <td>...</td>\n",
       "      <td>227844.000000</td>\n",
       "      <td>227844.000000</td>\n",
       "      <td>227844.000000</td>\n",
       "      <td>227844.000000</td>\n",
       "      <td>227844.000000</td>\n",
       "      <td>227844.000000</td>\n",
       "      <td>227844.000000</td>\n",
       "      <td>227844.000000</td>\n",
       "      <td>227844.000000</td>\n",
       "      <td>227844.000000</td>\n",
       "    </tr>\n",
       "    <tr>\n",
       "      <th>mean</th>\n",
       "      <td>79042.504749</td>\n",
       "      <td>90.825317</td>\n",
       "      <td>0.001830</td>\n",
       "      <td>0.049116</td>\n",
       "      <td>-0.005509</td>\n",
       "      <td>0.015160</td>\n",
       "      <td>-0.022870</td>\n",
       "      <td>-0.007267</td>\n",
       "      <td>0.009940</td>\n",
       "      <td>-0.005657</td>\n",
       "      <td>...</td>\n",
       "      <td>0.030540</td>\n",
       "      <td>-0.026843</td>\n",
       "      <td>0.003986</td>\n",
       "      <td>0.027511</td>\n",
       "      <td>0.032867</td>\n",
       "      <td>0.016712</td>\n",
       "      <td>-0.045001</td>\n",
       "      <td>0.076274</td>\n",
       "      <td>-0.001708</td>\n",
       "      <td>0.002219</td>\n",
       "    </tr>\n",
       "    <tr>\n",
       "      <th>std</th>\n",
       "      <td>39505.785991</td>\n",
       "      <td>250.504249</td>\n",
       "      <td>0.042742</td>\n",
       "      <td>0.933915</td>\n",
       "      <td>0.885633</td>\n",
       "      <td>0.874173</td>\n",
       "      <td>0.842786</td>\n",
       "      <td>0.819960</td>\n",
       "      <td>0.779024</td>\n",
       "      <td>0.761744</td>\n",
       "      <td>...</td>\n",
       "      <td>1.321420</td>\n",
       "      <td>1.228243</td>\n",
       "      <td>1.209610</td>\n",
       "      <td>8.652541</td>\n",
       "      <td>0.965725</td>\n",
       "      <td>1.019592</td>\n",
       "      <td>1.055865</td>\n",
       "      <td>1.033516</td>\n",
       "      <td>1.093933</td>\n",
       "      <td>1.123424</td>\n",
       "    </tr>\n",
       "    <tr>\n",
       "      <th>min</th>\n",
       "      <td>0.000000</td>\n",
       "      <td>0.000000</td>\n",
       "      <td>0.000000</td>\n",
       "      <td>-4.498945</td>\n",
       "      <td>-14.129855</td>\n",
       "      <td>-25.162799</td>\n",
       "      <td>-9.498746</td>\n",
       "      <td>-7.213527</td>\n",
       "      <td>-28.009635</td>\n",
       "      <td>-34.830382</td>\n",
       "      <td>...</td>\n",
       "      <td>-26.160506</td>\n",
       "      <td>-43.557242</td>\n",
       "      <td>-73.216718</td>\n",
       "      <td>-14.999725</td>\n",
       "      <td>-19.214325</td>\n",
       "      <td>-5.791881</td>\n",
       "      <td>-18.683715</td>\n",
       "      <td>-4.797473</td>\n",
       "      <td>-24.588262</td>\n",
       "      <td>-13.434066</td>\n",
       "    </tr>\n",
       "    <tr>\n",
       "      <th>25%</th>\n",
       "      <td>47694.000000</td>\n",
       "      <td>6.000000</td>\n",
       "      <td>0.000000</td>\n",
       "      <td>-0.543185</td>\n",
       "      <td>-0.478638</td>\n",
       "      <td>-0.457550</td>\n",
       "      <td>-0.514930</td>\n",
       "      <td>-0.478203</td>\n",
       "      <td>-0.202718</td>\n",
       "      <td>-0.225600</td>\n",
       "      <td>...</td>\n",
       "      <td>-0.731719</td>\n",
       "      <td>-0.568948</td>\n",
       "      <td>-0.195151</td>\n",
       "      <td>-7.466957</td>\n",
       "      <td>-0.386010</td>\n",
       "      <td>-0.651170</td>\n",
       "      <td>-0.453237</td>\n",
       "      <td>-0.682527</td>\n",
       "      <td>-0.522697</td>\n",
       "      <td>-0.662053</td>\n",
       "    </tr>\n",
       "    <tr>\n",
       "      <th>50%</th>\n",
       "      <td>73261.000000</td>\n",
       "      <td>23.400000</td>\n",
       "      <td>0.000000</td>\n",
       "      <td>0.120841</td>\n",
       "      <td>0.059919</td>\n",
       "      <td>-0.045765</td>\n",
       "      <td>-0.025810</td>\n",
       "      <td>-0.005872</td>\n",
       "      <td>-0.050963</td>\n",
       "      <td>-0.034863</td>\n",
       "      <td>...</td>\n",
       "      <td>-0.237643</td>\n",
       "      <td>0.009785</td>\n",
       "      <td>0.033492</td>\n",
       "      <td>0.044266</td>\n",
       "      <td>0.067860</td>\n",
       "      <td>-0.001631</td>\n",
       "      <td>0.118528</td>\n",
       "      <td>0.030157</td>\n",
       "      <td>-0.093071</td>\n",
       "      <td>-0.067951</td>\n",
       "    </tr>\n",
       "    <tr>\n",
       "      <th>75%</th>\n",
       "      <td>120396.000000</td>\n",
       "      <td>79.990000</td>\n",
       "      <td>0.000000</td>\n",
       "      <td>0.724566</td>\n",
       "      <td>0.528866</td>\n",
       "      <td>0.410328</td>\n",
       "      <td>0.476318</td>\n",
       "      <td>0.468257</td>\n",
       "      <td>0.144994</td>\n",
       "      <td>0.168401</td>\n",
       "      <td>...</td>\n",
       "      <td>0.432330</td>\n",
       "      <td>0.532569</td>\n",
       "      <td>0.332266</td>\n",
       "      <td>7.521777</td>\n",
       "      <td>0.509023</td>\n",
       "      <td>0.686509</td>\n",
       "      <td>0.611637</td>\n",
       "      <td>0.835856</td>\n",
       "      <td>0.456881</td>\n",
       "      <td>0.612866</td>\n",
       "    </tr>\n",
       "    <tr>\n",
       "      <th>max</th>\n",
       "      <td>145245.000000</td>\n",
       "      <td>19656.530000</td>\n",
       "      <td>1.000000</td>\n",
       "      <td>5.825654</td>\n",
       "      <td>8.289890</td>\n",
       "      <td>9.253526</td>\n",
       "      <td>5.041069</td>\n",
       "      <td>5.591971</td>\n",
       "      <td>39.420904</td>\n",
       "      <td>27.202839</td>\n",
       "      <td>...</td>\n",
       "      <td>22.529298</td>\n",
       "      <td>36.877368</td>\n",
       "      <td>20.007208</td>\n",
       "      <td>14.999989</td>\n",
       "      <td>10.526766</td>\n",
       "      <td>4.569009</td>\n",
       "      <td>7.848392</td>\n",
       "      <td>12.018913</td>\n",
       "      <td>23.745136</td>\n",
       "      <td>15.594995</td>\n",
       "    </tr>\n",
       "  </tbody>\n",
       "</table>\n",
       "<p>8 rows × 32 columns</p>\n",
       "</div>"
      ],
      "text/plain": [
       "       Seconds since reference time         Amount  \\\n",
       "count                 227844.000000  227844.000000   \n",
       "mean                   79042.504749      90.825317   \n",
       "std                    39505.785991     250.504249   \n",
       "min                        0.000000       0.000000   \n",
       "25%                    47694.000000       6.000000   \n",
       "50%                    73261.000000      23.400000   \n",
       "75%                   120396.000000      79.990000   \n",
       "max                   145245.000000   19656.530000   \n",
       "\n",
       "       Fraud? (1: Fraud, 0:  No Fraud)      Feature 1      Feature 2  \\\n",
       "count                    227844.000000  227844.000000  227844.000000   \n",
       "mean                          0.001830       0.049116      -0.005509   \n",
       "std                           0.042742       0.933915       0.885633   \n",
       "min                           0.000000      -4.498945     -14.129855   \n",
       "25%                           0.000000      -0.543185      -0.478638   \n",
       "50%                           0.000000       0.120841       0.059919   \n",
       "75%                           0.000000       0.724566       0.528866   \n",
       "max                           1.000000       5.825654       8.289890   \n",
       "\n",
       "           Feature 3      Feature 4      Feature 5      Feature 6  \\\n",
       "count  227844.000000  227844.000000  227844.000000  227844.000000   \n",
       "mean        0.015160      -0.022870      -0.007267       0.009940   \n",
       "std         0.874173       0.842786       0.819960       0.779024   \n",
       "min       -25.162799      -9.498746      -7.213527     -28.009635   \n",
       "25%        -0.457550      -0.514930      -0.478203      -0.202718   \n",
       "50%        -0.045765      -0.025810      -0.005872      -0.050963   \n",
       "75%         0.410328       0.476318       0.468257       0.144994   \n",
       "max         9.253526       5.041069       5.591971      39.420904   \n",
       "\n",
       "           Feature 7      ...           Feature 20     Feature 21  \\\n",
       "count  227844.000000      ...        227844.000000  227844.000000   \n",
       "mean       -0.005657      ...             0.030540      -0.026843   \n",
       "std         0.761744      ...             1.321420       1.228243   \n",
       "min       -34.830382      ...           -26.160506     -43.557242   \n",
       "25%        -0.225600      ...            -0.731719      -0.568948   \n",
       "50%        -0.034863      ...            -0.237643       0.009785   \n",
       "75%         0.168401      ...             0.432330       0.532569   \n",
       "max        27.202839      ...            22.529298      36.877368   \n",
       "\n",
       "          Feature 22     Feature 23     Feature 24     Feature 25  \\\n",
       "count  227844.000000  227844.000000  227844.000000  227844.000000   \n",
       "mean        0.003986       0.027511       0.032867       0.016712   \n",
       "std         1.209610       8.652541       0.965725       1.019592   \n",
       "min       -73.216718     -14.999725     -19.214325      -5.791881   \n",
       "25%        -0.195151      -7.466957      -0.386010      -0.651170   \n",
       "50%         0.033492       0.044266       0.067860      -0.001631   \n",
       "75%         0.332266       7.521777       0.509023       0.686509   \n",
       "max        20.007208      14.999989      10.526766       4.569009   \n",
       "\n",
       "          Feature 26     Feature 27     Feature 28     Feature 29  \n",
       "count  227844.000000  227844.000000  227844.000000  227844.000000  \n",
       "mean       -0.045001       0.076274      -0.001708       0.002219  \n",
       "std         1.055865       1.033516       1.093933       1.123424  \n",
       "min       -18.683715      -4.797473     -24.588262     -13.434066  \n",
       "25%        -0.453237      -0.682527      -0.522697      -0.662053  \n",
       "50%         0.118528       0.030157      -0.093071      -0.067951  \n",
       "75%         0.611637       0.835856       0.456881       0.612866  \n",
       "max         7.848392      12.018913      23.745136      15.594995  \n",
       "\n",
       "[8 rows x 32 columns]"
      ]
     },
     "execution_count": 4,
     "metadata": {},
     "output_type": "execute_result"
    }
   ],
   "source": [
    "df_data_1.describe()"
   ]
  },
  {
   "cell_type": "code",
   "execution_count": 12,
   "metadata": {},
   "outputs": [],
   "source": [
    "#sns.heatmap(df_data_1.corr())\n",
    "# from heat map we can see that there is no correlation whatsoever between features\n",
    "df_corr = df_data_1.corr()\n",
    "df_corr = pd.DataFrame(df_corr)"
   ]
  },
  {
   "cell_type": "code",
   "execution_count": 13,
   "metadata": {},
   "outputs": [],
   "source": [
    "df_corr = df_corr.iloc[:,[0,1,2]]\n",
    "df_corr_rank = df_corr.rank()\n",
    "df_corr.rank()\n",
    "# amount and seconds since reference time do not really affect fraud.\n",
    "df_corr_rank = df_corr_rank.loc[df_corr_rank.iloc[:,2] <= 10] # get top 10 correlated features"
   ]
  },
  {
   "cell_type": "code",
   "execution_count": 14,
   "metadata": {},
   "outputs": [
    {
     "data": {
      "text/html": [
       "<div>\n",
       "<style scoped>\n",
       "    .dataframe tbody tr th:only-of-type {\n",
       "        vertical-align: middle;\n",
       "    }\n",
       "\n",
       "    .dataframe tbody tr th {\n",
       "        vertical-align: top;\n",
       "    }\n",
       "\n",
       "    .dataframe thead th {\n",
       "        text-align: right;\n",
       "    }\n",
       "</style>\n",
       "<table border=\"1\" class=\"dataframe\">\n",
       "  <thead>\n",
       "    <tr style=\"text-align: right;\">\n",
       "      <th></th>\n",
       "      <th>Seconds since reference time</th>\n",
       "      <th>Amount</th>\n",
       "      <th>Fraud? (1: Fraud, 0:  No Fraud)</th>\n",
       "    </tr>\n",
       "  </thead>\n",
       "  <tbody>\n",
       "    <tr>\n",
       "      <th>Seconds since reference time</th>\n",
       "      <td>1.000000</td>\n",
       "      <td>0.005782</td>\n",
       "      <td>-0.012719</td>\n",
       "    </tr>\n",
       "    <tr>\n",
       "      <th>Amount</th>\n",
       "      <td>0.005782</td>\n",
       "      <td>1.000000</td>\n",
       "      <td>0.005954</td>\n",
       "    </tr>\n",
       "    <tr>\n",
       "      <th>Fraud? (1: Fraud, 0:  No Fraud)</th>\n",
       "      <td>-0.012719</td>\n",
       "      <td>0.005954</td>\n",
       "      <td>1.000000</td>\n",
       "    </tr>\n",
       "    <tr>\n",
       "      <th>Feature 1</th>\n",
       "      <td>-0.165582</td>\n",
       "      <td>-0.013712</td>\n",
       "      <td>-0.006755</td>\n",
       "    </tr>\n",
       "    <tr>\n",
       "      <th>Feature 2</th>\n",
       "      <td>0.005483</td>\n",
       "      <td>-0.010441</td>\n",
       "      <td>-0.220171</td>\n",
       "    </tr>\n",
       "    <tr>\n",
       "      <th>Feature 3</th>\n",
       "      <td>-0.072029</td>\n",
       "      <td>0.012553</td>\n",
       "      <td>-0.364374</td>\n",
       "    </tr>\n",
       "    <tr>\n",
       "      <th>Feature 4</th>\n",
       "      <td>0.080074</td>\n",
       "      <td>0.034516</td>\n",
       "      <td>-0.130390</td>\n",
       "    </tr>\n",
       "    <tr>\n",
       "      <th>Feature 5</th>\n",
       "      <td>0.025653</td>\n",
       "      <td>-0.057852</td>\n",
       "      <td>0.040136</td>\n",
       "    </tr>\n",
       "    <tr>\n",
       "      <th>Feature 6</th>\n",
       "      <td>-0.050705</td>\n",
       "      <td>0.373331</td>\n",
       "      <td>0.019885</td>\n",
       "    </tr>\n",
       "    <tr>\n",
       "      <th>Feature 7</th>\n",
       "      <td>0.046230</td>\n",
       "      <td>0.116341</td>\n",
       "      <td>0.043358</td>\n",
       "    </tr>\n",
       "    <tr>\n",
       "      <th>Feature 8</th>\n",
       "      <td>0.158191</td>\n",
       "      <td>-0.076657</td>\n",
       "      <td>0.002175</td>\n",
       "    </tr>\n",
       "    <tr>\n",
       "      <th>Feature 9</th>\n",
       "      <td>0.044401</td>\n",
       "      <td>-0.118404</td>\n",
       "      <td>-0.003404</td>\n",
       "    </tr>\n",
       "    <tr>\n",
       "      <th>Feature 10</th>\n",
       "      <td>-0.020513</td>\n",
       "      <td>0.002527</td>\n",
       "      <td>-0.005974</td>\n",
       "    </tr>\n",
       "    <tr>\n",
       "      <th>Feature 11</th>\n",
       "      <td>-0.210063</td>\n",
       "      <td>-0.060584</td>\n",
       "      <td>0.001123</td>\n",
       "    </tr>\n",
       "    <tr>\n",
       "      <th>Feature 12</th>\n",
       "      <td>-0.050020</td>\n",
       "      <td>-0.005038</td>\n",
       "      <td>0.003075</td>\n",
       "    </tr>\n",
       "    <tr>\n",
       "      <th>Feature 13</th>\n",
       "      <td>-0.007435</td>\n",
       "      <td>0.004931</td>\n",
       "      <td>0.021584</td>\n",
       "    </tr>\n",
       "    <tr>\n",
       "      <th>Feature 14</th>\n",
       "      <td>-0.002429</td>\n",
       "      <td>0.028038</td>\n",
       "      <td>0.007110</td>\n",
       "    </tr>\n",
       "    <tr>\n",
       "      <th>Feature 15</th>\n",
       "      <td>0.109571</td>\n",
       "      <td>-0.232425</td>\n",
       "      <td>-0.117084</td>\n",
       "    </tr>\n",
       "    <tr>\n",
       "      <th>Feature 16</th>\n",
       "      <td>-0.036161</td>\n",
       "      <td>-0.540000</td>\n",
       "      <td>0.102593</td>\n",
       "    </tr>\n",
       "    <tr>\n",
       "      <th>Feature 17</th>\n",
       "      <td>-0.397110</td>\n",
       "      <td>-0.210299</td>\n",
       "      <td>-0.219400</td>\n",
       "    </tr>\n",
       "    <tr>\n",
       "      <th>Feature 18</th>\n",
       "      <td>-0.096662</td>\n",
       "      <td>0.090647</td>\n",
       "      <td>0.139911</td>\n",
       "    </tr>\n",
       "    <tr>\n",
       "      <th>Feature 19</th>\n",
       "      <td>0.167869</td>\n",
       "      <td>-0.373958</td>\n",
       "      <td>-0.115750</td>\n",
       "    </tr>\n",
       "    <tr>\n",
       "      <th>Feature 20</th>\n",
       "      <td>-0.048968</td>\n",
       "      <td>0.206184</td>\n",
       "      <td>-0.044995</td>\n",
       "    </tr>\n",
       "    <tr>\n",
       "      <th>Feature 21</th>\n",
       "      <td>0.084202</td>\n",
       "      <td>0.376494</td>\n",
       "      <td>-0.217468</td>\n",
       "    </tr>\n",
       "    <tr>\n",
       "      <th>Feature 22</th>\n",
       "      <td>-0.048690</td>\n",
       "      <td>-0.096400</td>\n",
       "      <td>0.023356</td>\n",
       "    </tr>\n",
       "    <tr>\n",
       "      <th>Feature 23</th>\n",
       "      <td>0.001192</td>\n",
       "      <td>0.001817</td>\n",
       "      <td>0.002902</td>\n",
       "    </tr>\n",
       "    <tr>\n",
       "      <th>Feature 24</th>\n",
       "      <td>-0.079968</td>\n",
       "      <td>0.025574</td>\n",
       "      <td>-0.312901</td>\n",
       "    </tr>\n",
       "    <tr>\n",
       "      <th>Feature 25</th>\n",
       "      <td>-0.065535</td>\n",
       "      <td>-0.000951</td>\n",
       "      <td>-0.002744</td>\n",
       "    </tr>\n",
       "    <tr>\n",
       "      <th>Feature 26</th>\n",
       "      <td>0.089861</td>\n",
       "      <td>0.005635</td>\n",
       "      <td>-0.269285</td>\n",
       "    </tr>\n",
       "    <tr>\n",
       "      <th>Feature 27</th>\n",
       "      <td>-0.220593</td>\n",
       "      <td>-0.006207</td>\n",
       "      <td>0.164506</td>\n",
       "    </tr>\n",
       "    <tr>\n",
       "      <th>Feature 28</th>\n",
       "      <td>0.043137</td>\n",
       "      <td>-0.109195</td>\n",
       "      <td>-0.240082</td>\n",
       "    </tr>\n",
       "    <tr>\n",
       "      <th>Feature 29</th>\n",
       "      <td>-0.008962</td>\n",
       "      <td>-0.034715</td>\n",
       "      <td>-0.102859</td>\n",
       "    </tr>\n",
       "  </tbody>\n",
       "</table>\n",
       "</div>"
      ],
      "text/plain": [
       "                                 Seconds since reference time    Amount  \\\n",
       "Seconds since reference time                         1.000000  0.005782   \n",
       "Amount                                               0.005782  1.000000   \n",
       "Fraud? (1: Fraud, 0:  No Fraud)                     -0.012719  0.005954   \n",
       "Feature 1                                           -0.165582 -0.013712   \n",
       "Feature 2                                            0.005483 -0.010441   \n",
       "Feature 3                                           -0.072029  0.012553   \n",
       "Feature 4                                            0.080074  0.034516   \n",
       "Feature 5                                            0.025653 -0.057852   \n",
       "Feature 6                                           -0.050705  0.373331   \n",
       "Feature 7                                            0.046230  0.116341   \n",
       "Feature 8                                            0.158191 -0.076657   \n",
       "Feature 9                                            0.044401 -0.118404   \n",
       "Feature 10                                          -0.020513  0.002527   \n",
       "Feature 11                                          -0.210063 -0.060584   \n",
       "Feature 12                                          -0.050020 -0.005038   \n",
       "Feature 13                                          -0.007435  0.004931   \n",
       "Feature 14                                          -0.002429  0.028038   \n",
       "Feature 15                                           0.109571 -0.232425   \n",
       "Feature 16                                          -0.036161 -0.540000   \n",
       "Feature 17                                          -0.397110 -0.210299   \n",
       "Feature 18                                          -0.096662  0.090647   \n",
       "Feature 19                                           0.167869 -0.373958   \n",
       "Feature 20                                          -0.048968  0.206184   \n",
       "Feature 21                                           0.084202  0.376494   \n",
       "Feature 22                                          -0.048690 -0.096400   \n",
       "Feature 23                                           0.001192  0.001817   \n",
       "Feature 24                                          -0.079968  0.025574   \n",
       "Feature 25                                          -0.065535 -0.000951   \n",
       "Feature 26                                           0.089861  0.005635   \n",
       "Feature 27                                          -0.220593 -0.006207   \n",
       "Feature 28                                           0.043137 -0.109195   \n",
       "Feature 29                                          -0.008962 -0.034715   \n",
       "\n",
       "                                 Fraud? (1: Fraud, 0:  No Fraud)  \n",
       "Seconds since reference time                           -0.012719  \n",
       "Amount                                                  0.005954  \n",
       "Fraud? (1: Fraud, 0:  No Fraud)                         1.000000  \n",
       "Feature 1                                              -0.006755  \n",
       "Feature 2                                              -0.220171  \n",
       "Feature 3                                              -0.364374  \n",
       "Feature 4                                              -0.130390  \n",
       "Feature 5                                               0.040136  \n",
       "Feature 6                                               0.019885  \n",
       "Feature 7                                               0.043358  \n",
       "Feature 8                                               0.002175  \n",
       "Feature 9                                              -0.003404  \n",
       "Feature 10                                             -0.005974  \n",
       "Feature 11                                              0.001123  \n",
       "Feature 12                                              0.003075  \n",
       "Feature 13                                              0.021584  \n",
       "Feature 14                                              0.007110  \n",
       "Feature 15                                             -0.117084  \n",
       "Feature 16                                              0.102593  \n",
       "Feature 17                                             -0.219400  \n",
       "Feature 18                                              0.139911  \n",
       "Feature 19                                             -0.115750  \n",
       "Feature 20                                             -0.044995  \n",
       "Feature 21                                             -0.217468  \n",
       "Feature 22                                              0.023356  \n",
       "Feature 23                                              0.002902  \n",
       "Feature 24                                             -0.312901  \n",
       "Feature 25                                             -0.002744  \n",
       "Feature 26                                             -0.269285  \n",
       "Feature 27                                              0.164506  \n",
       "Feature 28                                             -0.240082  \n",
       "Feature 29                                             -0.102859  "
      ]
     },
     "execution_count": 14,
     "metadata": {},
     "output_type": "execute_result"
    }
   ],
   "source": [
    "df_corr"
   ]
  },
  {
   "cell_type": "code",
   "execution_count": 15,
   "metadata": {},
   "outputs": [
    {
     "data": {
      "text/html": [
       "<div>\n",
       "<style scoped>\n",
       "    .dataframe tbody tr th:only-of-type {\n",
       "        vertical-align: middle;\n",
       "    }\n",
       "\n",
       "    .dataframe tbody tr th {\n",
       "        vertical-align: top;\n",
       "    }\n",
       "\n",
       "    .dataframe thead th {\n",
       "        text-align: right;\n",
       "    }\n",
       "</style>\n",
       "<table border=\"1\" class=\"dataframe\">\n",
       "  <thead>\n",
       "    <tr style=\"text-align: right;\">\n",
       "      <th></th>\n",
       "      <th>Seconds since reference time</th>\n",
       "      <th>Amount</th>\n",
       "      <th>Fraud? (1: Fraud, 0:  No Fraud)</th>\n",
       "    </tr>\n",
       "  </thead>\n",
       "  <tbody>\n",
       "    <tr>\n",
       "      <th>Feature 3</th>\n",
       "      <td>7.0</td>\n",
       "      <td>23.0</td>\n",
       "      <td>1.0</td>\n",
       "    </tr>\n",
       "    <tr>\n",
       "      <th>Feature 24</th>\n",
       "      <td>6.0</td>\n",
       "      <td>24.0</td>\n",
       "      <td>2.0</td>\n",
       "    </tr>\n",
       "    <tr>\n",
       "      <th>Feature 26</th>\n",
       "      <td>28.0</td>\n",
       "      <td>20.0</td>\n",
       "      <td>3.0</td>\n",
       "    </tr>\n",
       "    <tr>\n",
       "      <th>Feature 28</th>\n",
       "      <td>23.0</td>\n",
       "      <td>6.0</td>\n",
       "      <td>4.0</td>\n",
       "    </tr>\n",
       "    <tr>\n",
       "      <th>Feature 2</th>\n",
       "      <td>20.0</td>\n",
       "      <td>13.0</td>\n",
       "      <td>5.0</td>\n",
       "    </tr>\n",
       "    <tr>\n",
       "      <th>Feature 17</th>\n",
       "      <td>1.0</td>\n",
       "      <td>4.0</td>\n",
       "      <td>6.0</td>\n",
       "    </tr>\n",
       "    <tr>\n",
       "      <th>Feature 21</th>\n",
       "      <td>27.0</td>\n",
       "      <td>31.0</td>\n",
       "      <td>7.0</td>\n",
       "    </tr>\n",
       "    <tr>\n",
       "      <th>Feature 4</th>\n",
       "      <td>26.0</td>\n",
       "      <td>26.0</td>\n",
       "      <td>8.0</td>\n",
       "    </tr>\n",
       "    <tr>\n",
       "      <th>Feature 15</th>\n",
       "      <td>29.0</td>\n",
       "      <td>3.0</td>\n",
       "      <td>9.0</td>\n",
       "    </tr>\n",
       "    <tr>\n",
       "      <th>Feature 19</th>\n",
       "      <td>31.0</td>\n",
       "      <td>2.0</td>\n",
       "      <td>10.0</td>\n",
       "    </tr>\n",
       "  </tbody>\n",
       "</table>\n",
       "</div>"
      ],
      "text/plain": [
       "            Seconds since reference time  Amount  \\\n",
       "Feature 3                            7.0    23.0   \n",
       "Feature 24                           6.0    24.0   \n",
       "Feature 26                          28.0    20.0   \n",
       "Feature 28                          23.0     6.0   \n",
       "Feature 2                           20.0    13.0   \n",
       "Feature 17                           1.0     4.0   \n",
       "Feature 21                          27.0    31.0   \n",
       "Feature 4                           26.0    26.0   \n",
       "Feature 15                          29.0     3.0   \n",
       "Feature 19                          31.0     2.0   \n",
       "\n",
       "            Fraud? (1: Fraud, 0:  No Fraud)  \n",
       "Feature 3                               1.0  \n",
       "Feature 24                              2.0  \n",
       "Feature 26                              3.0  \n",
       "Feature 28                              4.0  \n",
       "Feature 2                               5.0  \n",
       "Feature 17                              6.0  \n",
       "Feature 21                              7.0  \n",
       "Feature 4                               8.0  \n",
       "Feature 15                              9.0  \n",
       "Feature 19                             10.0  "
      ]
     },
     "execution_count": 15,
     "metadata": {},
     "output_type": "execute_result"
    }
   ],
   "source": [
    "df_corr_rank.sort_values('Fraud? (1: Fraud, 0:  No Fraud)')"
   ]
  },
  {
   "cell_type": "code",
   "execution_count": 2,
   "metadata": {},
   "outputs": [
    {
     "data": {
      "text/plain": [
       "<matplotlib.axes._subplots.AxesSubplot at 0x7f83ec4e3780>"
      ]
     },
     "execution_count": 2,
     "metadata": {},
     "output_type": "execute_result"
    },
    {
     "data": {
      "image/png": "[encoded data removed]",
      "text/plain": [
       "<Figure size 432x288 with 1 Axes>"
      ]
     },
     "metadata": {
      "needs_background": "light"
     },
     "output_type": "display_data"
    }
   ],
   "source": [
    "sns.scatterplot(x=df_data_1['Feature 3'],y=df_data_1['Fraud? (1: Fraud, 0:  No Fraud)'])"
   ]
  },
  {
   "cell_type": "code",
   "execution_count": 16,
   "metadata": {},
   "outputs": [
    {
     "data": {
      "text/plain": [
       "-17.09844421"
      ]
     },
     "execution_count": 16,
     "metadata": {},
     "output_type": "execute_result"
    }
   ],
   "source": [
    "df_data_1.loc[df_data_1['Fraud? (1: Fraud, 0:  No Fraud)'] == 0]['Feature 3'].min()\n",
    "# round down to -17.1"
   ]
  },
  {
   "cell_type": "code",
   "execution_count": 3,
   "metadata": {},
   "outputs": [
    {
     "data": {
      "text/plain": [
       "<matplotlib.axes._subplots.AxesSubplot at 0x7f8360103080>"
      ]
     },
     "execution_count": 3,
     "metadata": {},
     "output_type": "execute_result"
    },
    {
     "data": {
      "image/png": "[encoded data removed]",
      "text/plain": [
       "<Figure size 432x288 with 1 Axes>"
      ]
     },
     "metadata": {
      "needs_background": "light"
     },
     "output_type": "display_data"
    }
   ],
   "source": [
    "sns.scatterplot(x=df_data_1['Feature 24'],y=df_data_1['Fraud? (1: Fraud, 0:  No Fraud)'])"
   ]
  },
  {
   "cell_type": "code",
   "execution_count": 6,
   "metadata": {},
   "outputs": [
    {
     "data": {
      "text/plain": [
       "<matplotlib.axes._subplots.AxesSubplot at 0x7f83609ac550>"
      ]
     },
     "execution_count": 6,
     "metadata": {},
     "output_type": "execute_result"
    },
    {
     "data": {
      "image/png": "[encoded data removed]",
      "text/plain": [
       "<Figure size 432x288 with 1 Axes>"
      ]
     },
     "metadata": {
      "needs_background": "light"
     },
     "output_type": "display_data"
    }
   ],
   "source": [
    "sns.scatterplot(x=df_data_1['Feature 28'],y=df_data_1['Fraud? (1: Fraud, 0:  No Fraud)'])"
   ]
  },
  {
   "cell_type": "code",
   "execution_count": 20,
   "metadata": {},
   "outputs": [
    {
     "data": {
      "text/plain": [
       "-14.74109638"
      ]
     },
     "execution_count": 20,
     "metadata": {},
     "output_type": "execute_result"
    }
   ],
   "source": [
    "df_data_1.loc[df_data_1['Fraud? (1: Fraud, 0:  No Fraud)'] == 0]['Feature 28'].min()"
   ]
  },
  {
   "cell_type": "code",
   "execution_count": 5,
   "metadata": {},
   "outputs": [
    {
     "data": {
      "text/plain": [
       "<matplotlib.axes._subplots.AxesSubplot at 0x7f8360103f98>"
      ]
     },
     "execution_count": 5,
     "metadata": {},
     "output_type": "execute_result"
    },
    {
     "data": {
      "image/png": "[encoded data removed]",
      "text/plain": [
       "<Figure size 432x288 with 1 Axes>"
      ]
     },
     "metadata": {
      "needs_background": "light"
     },
     "output_type": "display_data"
    }
   ],
   "source": [
    "sns.scatterplot(x=df_data_1['Feature 26'],y=df_data_1['Fraud? (1: Fraud, 0:  No Fraud)'])"
   ]
  },
  {
   "cell_type": "code",
   "execution_count": 31,
   "metadata": {},
   "outputs": [
    {
     "data": {
      "text/plain": [
       "-15.14498822"
      ]
     },
     "execution_count": 31,
     "metadata": {},
     "output_type": "execute_result"
    }
   ],
   "source": [
    "df_data_1.loc[df_data_1['Fraud? (1: Fraud, 0:  No Fraud)'] == 0]['Feature 26'].min()"
   ]
  },
  {
   "cell_type": "code",
   "execution_count": 7,
   "metadata": {},
   "outputs": [
    {
     "data": {
      "text/plain": [
       "<matplotlib.axes._subplots.AxesSubplot at 0x7f836096af60>"
      ]
     },
     "execution_count": 7,
     "metadata": {},
     "output_type": "execute_result"
    },
    {
     "data": {
      "image/png": "[encoded data removed]",
      "text/plain": [
       "<Figure size 432x288 with 1 Axes>"
      ]
     },
     "metadata": {
      "needs_background": "light"
     },
     "output_type": "display_data"
    }
   ],
   "source": [
    "sns.scatterplot(x=df_data_1['Feature 2'],y=df_data_1['Fraud? (1: Fraud, 0:  No Fraud)'])"
   ]
  },
  {
   "cell_type": "code",
   "execution_count": 33,
   "metadata": {},
   "outputs": [
    {
     "data": {
      "text/plain": [
       "-10.11555995"
      ]
     },
     "execution_count": 33,
     "metadata": {},
     "output_type": "execute_result"
    }
   ],
   "source": [
    "df_data_1.loc[df_data_1['Fraud? (1: Fraud, 0:  No Fraud)'] == 0]['Feature 2'].min()"
   ]
  },
  {
   "cell_type": "code",
   "execution_count": 8,
   "metadata": {},
   "outputs": [
    {
     "data": {
      "text/plain": [
       "<matplotlib.axes._subplots.AxesSubplot at 0x7f836099fda0>"
      ]
     },
     "execution_count": 8,
     "metadata": {},
     "output_type": "execute_result"
    },
    {
     "data": {
      "image/png": "[encoded data removed]",
      "text/plain": [
       "<Figure size 432x288 with 1 Axes>"
      ]
     },
     "metadata": {
      "needs_background": "light"
     },
     "output_type": "display_data"
    }
   ],
   "source": [
    "sns.scatterplot(x=df_data_1['Feature 17'],y=df_data_1['Fraud? (1: Fraud, 0:  No Fraud)'])"
   ]
  },
  {
   "cell_type": "code",
   "execution_count": 9,
   "metadata": {},
   "outputs": [
    {
     "data": {
      "text/plain": [
       "<matplotlib.axes._subplots.AxesSubplot at 0x7f836089ef28>"
      ]
     },
     "execution_count": 9,
     "metadata": {},
     "output_type": "execute_result"
    },
    {
     "data": {
      "image/png": "[encoded data removed]",
      "text/plain": [
       "<Figure size 432x288 with 1 Axes>"
      ]
     },
     "metadata": {
      "needs_background": "light"
     },
     "output_type": "display_data"
    }
   ],
   "source": [
    "sns.scatterplot(x=df_data_1['Feature 21'],y=df_data_1['Fraud? (1: Fraud, 0:  No Fraud)'])"
   ]
  },
  {
   "cell_type": "code",
   "execution_count": 10,
   "metadata": {},
   "outputs": [
    {
     "data": {
      "text/plain": [
       "<matplotlib.axes._subplots.AxesSubplot at 0x7f836088e908>"
      ]
     },
     "execution_count": 10,
     "metadata": {},
     "output_type": "execute_result"
    },
    {
     "data": {
      "image/png": "[encoded data removed]",
      "text/plain": [
       "<Figure size 432x288 with 1 Axes>"
      ]
     },
     "metadata": {
      "needs_background": "light"
     },
     "output_type": "display_data"
    }
   ],
   "source": [
    "sns.scatterplot(x=df_data_1['Feature 4'],y=df_data_1['Fraud? (1: Fraud, 0:  No Fraud)'])"
   ]
  },
  {
   "cell_type": "code",
   "execution_count": 35,
   "metadata": {},
   "outputs": [
    {
     "data": {
      "text/plain": [
       "-5.366659956"
      ]
     },
     "execution_count": 35,
     "metadata": {},
     "output_type": "execute_result"
    }
   ],
   "source": [
    "df_data_1.loc[df_data_1['Fraud? (1: Fraud, 0:  No Fraud)'] == 0]['Feature 4'].min()"
   ]
  },
  {
   "cell_type": "code",
   "execution_count": 11,
   "metadata": {},
   "outputs": [
    {
     "data": {
      "text/plain": [
       "<matplotlib.axes._subplots.AxesSubplot at 0x7f83607eecc0>"
      ]
     },
     "execution_count": 11,
     "metadata": {},
     "output_type": "execute_result"
    },
    {
     "data": {
      "image/png": "[encoded data removed]",
      "text/plain": [
       "<Figure size 432x288 with 1 Axes>"
      ]
     },
     "metadata": {
      "needs_background": "light"
     },
     "output_type": "display_data"
    }
   ],
   "source": [
    "sns.scatterplot(x=df_data_1['Feature 15'],y=df_data_1['Fraud? (1: Fraud, 0:  No Fraud)'])"
   ]
  },
  {
   "cell_type": "code",
   "execution_count": 12,
   "metadata": {},
   "outputs": [
    {
     "data": {
      "text/plain": [
       "<matplotlib.axes._subplots.AxesSubplot at 0x7f836075a160>"
      ]
     },
     "execution_count": 12,
     "metadata": {},
     "output_type": "execute_result"
    },
    {
     "data": {
      "image/png": "[encoded data removed]",
      "text/plain": [
       "<Figure size 432x288 with 1 Axes>"
      ]
     },
     "metadata": {
      "needs_background": "light"
     },
     "output_type": "display_data"
    }
   ],
   "source": [
    "sns.scatterplot(x=df_data_1['Feature 19'],y=df_data_1['Fraud? (1: Fraud, 0:  No Fraud)'])"
   ]
  },
  {
   "cell_type": "code",
   "execution_count": 13,
   "metadata": {},
   "outputs": [
    {
     "data": {
      "text/plain": [
       "<matplotlib.axes._subplots.AxesSubplot at 0x7f836072a2b0>"
      ]
     },
     "execution_count": 13,
     "metadata": {},
     "output_type": "execute_result"
    },
    {
     "data": {
      "image/png": "[encoded data removed]",
      "text/plain": [
       "<Figure size 432x288 with 1 Axes>"
      ]
     },
     "metadata": {
      "needs_background": "light"
     },
     "output_type": "display_data"
    }
   ],
   "source": [
    "sns.scatterplot(x=df_data_1['Amount'],y=df_data_1['Fraud? (1: Fraud, 0:  No Fraud)'])"
   ]
  },
  {
   "cell_type": "code",
   "execution_count": null,
   "metadata": {},
   "outputs": [],
   "source": [
    "#the corr function is actually really small. lets use a wrapper method to define what are the best features\n",
    "#using logisticregression as an example case first"
   ]
  },
  {
   "cell_type": "code",
   "execution_count": null,
   "metadata": {},
   "outputs": [],
   "source": [
    "from sklearn.feature_selection import RFE\n",
    "from sklearn.linear_model import LogisticRegression\n",
    "X = df_data_1[['Feature 3','Feature 24','Feature 26','Feature 28','Feature 2','Feature 17','Feature 21','Feature 4','Feature 15','Feature 19']]\n",
    "Y = df_data_1[['Fraud? (1: Fraud, 0:  No Fraud)']]\n",
    "model = LogisticRegression()\n",
    "rfe = RFE(model, 5)\n",
    "fit = rfe.fit(X, Y)\n",
    "print(\"Num Features: %s\" % (fit.n_features_))\n",
    "print(\"Selected Features: %s\" % (fit.support_))\n",
    "print(\"Feature Ranking: %s\" % (fit.ranking_))\n"
   ]
  },
  {
   "cell_type": "code",
   "execution_count": null,
   "metadata": {},
   "outputs": [],
   "source": []
  },
  {
   "cell_type": "code",
   "execution_count": null,
   "metadata": {},
   "outputs": [],
   "source": [
    "X = df_data_1[['Feature 24','Feature 26','Feature 28','Feature 2','Feature 19']]\n",
    "Y= df_data_1[['Fraud? (1: Fraud, 0:  No Fraud)']]"
   ]
  },
  {
   "cell_type": "code",
   "execution_count": null,
   "metadata": {},
   "outputs": [],
   "source": [
    "X_train, X_test, y_train, y_test = train_test_split(X, Y, test_size=0.2,)\n",
    "print(X_train.shape, y_train.shape)\n",
    "print(X_test.shape, y_test.shape)"
   ]
  },
  {
   "cell_type": "code",
   "execution_count": null,
   "metadata": {},
   "outputs": [],
   "source": [
    "model.fit(X_train, y_train)\n",
    "y_pred = model.predict_proba(X_test)"
   ]
  },
  {
   "cell_type": "code",
   "execution_count": null,
   "metadata": {},
   "outputs": [],
   "source": [
    "y_pred = pd.DataFrame(y_pred)\n",
    "y_pred = y_pred.assign(fraud = y_test['Fraud? (1: Fraud, 0:  No Fraud)'].values)"
   ]
  },
  {
   "cell_type": "code",
   "execution_count": null,
   "metadata": {},
   "outputs": [],
   "source": [
    "print(\"Total Fraudulent Transactions:\")\n",
    "y_pred_fraud = y_pred.loc[y_pred['fraud']==1] # get fraud transactions\n",
    "print(y_pred_fraud[1].count())\n",
    "print(\"Predicted Fraudulent Transactions with prob over 0.9:\")\n",
    "print(y_pred_fraud[1].loc[y_pred_fraud[1]>0.9].count())\n",
    "print(\"Predicted Fraudulent Transactions with prob over 0.5:\")\n",
    "print(y_pred_fraud[1].loc[y_pred_fraud[1]>0.5].count() - y_pred_fraud[1].loc[y_pred_fraud[1]>0.9].count())\n",
    "print(\"unpredicatble for fraud: \")\n",
    "print(y_pred_fraud[1].loc[y_pred_fraud[1]<=0.5].count())\n",
    "print(\"nonFraudulent Transactions\")\n",
    "y_pred_nonfraud = y_pred.loc[y_pred['fraud']==0] # get nonfraudulent transactions\n",
    "print(y_pred_nonfraud[0].count())\n",
    "print(\"Predicted NonFraudulent Transactions with prob over 0.9:\")\n",
    "print(y_pred_nonfraud[0].loc[y_pred_nonfraud[0]>0.9].count())\n",
    "print(\"Predicted NonFraudulent Transactions with prob over 0.5:\")\n",
    "print(y_pred_nonfraud[0].loc[y_pred_nonfraud[0]>0.5].count()-y_pred_nonfraud[0].loc[y_pred_nonfraud[0]>0.9].count())\n",
    "print(\"unpredicatble for non fraud: \" )\n",
    "print(y_pred_nonfraud[0].loc[y_pred_nonfraud[0]<=0.5].count())"
   ]
  },
  {
   "cell_type": "code",
   "execution_count": null,
   "metadata": {},
   "outputs": [],
   "source": [
    "print(y_pred.shape,y_test.shape)"
   ]
  },
  {
   "cell_type": "code",
   "execution_count": null,
   "metadata": {},
   "outputs": [],
   "source": [
    "fig = plt.figure()\n",
    "c = [i for i in range(1,45570,1)]\n",
    "plt.scatter(c,y_pred[1], color=\"red\", linewidth=2.5)\n",
    "plt.scatter(c,y_test, color=\"blue\", linewidth=2.5)\n",
    "fig.suptitle('Error Terms', fontsize=20)              # Plot heading \\n\",\n",
    "plt.xlabel('Index', fontsize=18)                      # X-label\\n\",\n",
    "plt.ylabel('ytest-ypred', fontsize=16)                # Y-label\""
   ]
  },
  {
   "cell_type": "code",
   "execution_count": null,
   "metadata": {},
   "outputs": [],
   "source": [
    " + bis_tmp# shouldnt use corr function like pearsons correlation cause its continuous vs binary"
   ]
  },
  {
   "cell_type": "code",
   "execution_count": 5,
   "metadata": {},
   "outputs": [
    {
     "name": "stdout",
     "output_type": "stream",
     "text": [
      "[-1.27186112e-002  1.26967561e-009  5.95387323e-003  4.48353802e-003\n",
      "  1.00000000e+000  0.00000000e+000 -6.75487529e-003  1.26270351e-003\n",
      " -2.20171062e-001  0.00000000e+000 -3.64373811e-001  0.00000000e+000\n",
      " -1.30390465e-001  0.00000000e+000  4.01359268e-002  7.15845937e-082\n",
      "  1.98847933e-002  2.25566763e-021  4.33581693e-002  3.07212788e-095\n",
      "  2.17517387e-003  2.99143703e-001 -3.40362879e-003  1.04237120e-001\n",
      " -5.97380931e-003  4.35150414e-003  1.12272504e-003  5.92022372e-001\n",
      "  3.07493755e-003  1.42170626e-001  2.15840550e-002  6.76878185e-025\n",
      "  7.10950409e-003  6.89792644e-004 -1.17083647e-001  0.00000000e+000\n",
      "  1.02592815e-001  0.00000000e+000 -2.19400218e-001  0.00000000e+000\n",
      "  1.39911132e-001  0.00000000e+000 -1.15750323e-001  0.00000000e+000\n",
      " -4.49947063e-002  2.01216305e-102 -2.17467847e-001  0.00000000e+000\n",
      "  2.33560209e-002  7.16137353e-029  2.90192265e-003  1.66000409e-001\n",
      " -3.12901454e-001  0.00000000e+000 -2.74406087e-003  1.90257392e-001\n",
      " -2.69285329e-001  0.00000000e+000  1.64505754e-001  0.00000000e+000\n",
      " -2.40081939e-001  0.00000000e+000 -1.02858978e-001  0.00000000e+000]\n"
     ]
    }
   ],
   "source": [
    "bis_tmp = ()\n",
    "for columns in df_data_1:\n",
    "    bis = stats.pointbiserialr(df_data_1['Fraud? (1: Fraud, 0:  No Fraud)'],df_data_1[columns])\n",
    "    bis_tmp = np.append(bis_tmp,bis)\n",
    "print(bis_tmp)"
   ]
  },
  {
   "cell_type": "code",
   "execution_count": 6,
   "metadata": {},
   "outputs": [
    {
     "name": "stdout",
     "output_type": "stream",
     "text": [
      "1.2696756142744025e-09\n",
      "1\n",
      "0.004483538020076627\n",
      "1\n",
      "0.0\n",
      "1\n",
      "0.0012627035069330266\n",
      "1\n",
      "0.0\n",
      "1\n",
      "0.0\n",
      "1\n",
      "0.0\n",
      "1\n",
      "7.158459368928011e-82\n",
      "1\n",
      "2.255667629872798e-21\n",
      "1\n",
      "3.072127875735202e-95\n",
      "1\n",
      "0.2991437031448084\n",
      "1\n",
      "0.10423711958297881\n",
      "1\n",
      "0.004351504141032912\n",
      "1\n",
      "0.5920223722940232\n",
      "1\n",
      "0.14217062569980565\n",
      "1\n",
      "6.768781849735663e-25\n",
      "1\n",
      "0.0006897926438683649\n",
      "1\n",
      "0.0\n",
      "1\n",
      "0.0\n",
      "1\n",
      "0.0\n",
      "1\n",
      "0.0\n",
      "1\n",
      "0.0\n",
      "1\n",
      "2.012163051312112e-102\n",
      "1\n",
      "0.0\n",
      "1\n",
      "7.161373527537182e-29\n",
      "1\n",
      "0.1660004090939864\n",
      "1\n",
      "0.0\n",
      "1\n",
      "0.19025739173315923\n",
      "1\n",
      "0.0\n",
      "1\n",
      "0.0\n",
      "1\n",
      "0.0\n",
      "1\n",
      "0.0\n",
      "1\n"
     ]
    }
   ],
   "source": [
    "bis_tmp = list(bis_tmp)\n",
    "count = 0\n",
    "for i in bis_tmp:\n",
    "    if count % 2 is 1:\n",
    "        print(i)\n",
    "        bis_tmp.remove(i)\n",
    "        print(count)\n",
    "        count = count - 1\n",
    "    count = count + 1"
   ]
  },
  {
   "cell_type": "code",
   "execution_count": 7,
   "metadata": {},
   "outputs": [],
   "source": [
    "bis_df = pd.DataFrame(bis_tmp)"
   ]
  },
  {
   "cell_type": "code",
   "execution_count": 20,
   "metadata": {},
   "outputs": [
    {
     "data": {
      "text/html": [
       "<div>\n",
       "<style scoped>\n",
       "    .dataframe tbody tr th:only-of-type {\n",
       "        vertical-align: middle;\n",
       "    }\n",
       "\n",
       "    .dataframe tbody tr th {\n",
       "        vertical-align: top;\n",
       "    }\n",
       "\n",
       "    .dataframe thead th {\n",
       "        text-align: right;\n",
       "    }\n",
       "</style>\n",
       "<table border=\"1\" class=\"dataframe\">\n",
       "  <thead>\n",
       "    <tr style=\"text-align: right;\">\n",
       "      <th></th>\n",
       "      <th>0</th>\n",
       "    </tr>\n",
       "  </thead>\n",
       "  <tbody>\n",
       "    <tr>\n",
       "      <th>2</th>\n",
       "      <td>32.0</td>\n",
       "    </tr>\n",
       "    <tr>\n",
       "      <th>29</th>\n",
       "      <td>31.0</td>\n",
       "    </tr>\n",
       "    <tr>\n",
       "      <th>20</th>\n",
       "      <td>30.0</td>\n",
       "    </tr>\n",
       "    <tr>\n",
       "      <th>18</th>\n",
       "      <td>29.0</td>\n",
       "    </tr>\n",
       "    <tr>\n",
       "      <th>9</th>\n",
       "      <td>28.0</td>\n",
       "    </tr>\n",
       "    <tr>\n",
       "      <th>7</th>\n",
       "      <td>27.0</td>\n",
       "    </tr>\n",
       "    <tr>\n",
       "      <th>24</th>\n",
       "      <td>26.0</td>\n",
       "    </tr>\n",
       "    <tr>\n",
       "      <th>15</th>\n",
       "      <td>25.0</td>\n",
       "    </tr>\n",
       "    <tr>\n",
       "      <th>8</th>\n",
       "      <td>24.0</td>\n",
       "    </tr>\n",
       "    <tr>\n",
       "      <th>16</th>\n",
       "      <td>23.0</td>\n",
       "    </tr>\n",
       "    <tr>\n",
       "      <th>1</th>\n",
       "      <td>22.0</td>\n",
       "    </tr>\n",
       "    <tr>\n",
       "      <th>14</th>\n",
       "      <td>21.0</td>\n",
       "    </tr>\n",
       "    <tr>\n",
       "      <th>25</th>\n",
       "      <td>20.0</td>\n",
       "    </tr>\n",
       "    <tr>\n",
       "      <th>10</th>\n",
       "      <td>19.0</td>\n",
       "    </tr>\n",
       "    <tr>\n",
       "      <th>13</th>\n",
       "      <td>18.0</td>\n",
       "    </tr>\n",
       "    <tr>\n",
       "      <th>27</th>\n",
       "      <td>17.0</td>\n",
       "    </tr>\n",
       "    <tr>\n",
       "      <th>11</th>\n",
       "      <td>16.0</td>\n",
       "    </tr>\n",
       "    <tr>\n",
       "      <th>12</th>\n",
       "      <td>15.0</td>\n",
       "    </tr>\n",
       "    <tr>\n",
       "      <th>3</th>\n",
       "      <td>14.0</td>\n",
       "    </tr>\n",
       "    <tr>\n",
       "      <th>0</th>\n",
       "      <td>13.0</td>\n",
       "    </tr>\n",
       "    <tr>\n",
       "      <th>22</th>\n",
       "      <td>12.0</td>\n",
       "    </tr>\n",
       "    <tr>\n",
       "      <th>31</th>\n",
       "      <td>11.0</td>\n",
       "    </tr>\n",
       "    <tr>\n",
       "      <th>21</th>\n",
       "      <td>10.0</td>\n",
       "    </tr>\n",
       "    <tr>\n",
       "      <th>17</th>\n",
       "      <td>9.0</td>\n",
       "    </tr>\n",
       "    <tr>\n",
       "      <th>6</th>\n",
       "      <td>8.0</td>\n",
       "    </tr>\n",
       "    <tr>\n",
       "      <th>23</th>\n",
       "      <td>7.0</td>\n",
       "    </tr>\n",
       "    <tr>\n",
       "      <th>19</th>\n",
       "      <td>6.0</td>\n",
       "    </tr>\n",
       "    <tr>\n",
       "      <th>4</th>\n",
       "      <td>5.0</td>\n",
       "    </tr>\n",
       "    <tr>\n",
       "      <th>30</th>\n",
       "      <td>4.0</td>\n",
       "    </tr>\n",
       "    <tr>\n",
       "      <th>28</th>\n",
       "      <td>3.0</td>\n",
       "    </tr>\n",
       "    <tr>\n",
       "      <th>26</th>\n",
       "      <td>2.0</td>\n",
       "    </tr>\n",
       "    <tr>\n",
       "      <th>5</th>\n",
       "      <td>1.0</td>\n",
       "    </tr>\n",
       "  </tbody>\n",
       "</table>\n",
       "</div>"
      ],
      "text/plain": [
       "       0\n",
       "2   32.0\n",
       "29  31.0\n",
       "20  30.0\n",
       "18  29.0\n",
       "9   28.0\n",
       "7   27.0\n",
       "24  26.0\n",
       "15  25.0\n",
       "8   24.0\n",
       "16  23.0\n",
       "1   22.0\n",
       "14  21.0\n",
       "25  20.0\n",
       "10  19.0\n",
       "13  18.0\n",
       "27  17.0\n",
       "11  16.0\n",
       "12  15.0\n",
       "3   14.0\n",
       "0   13.0\n",
       "22  12.0\n",
       "31  11.0\n",
       "21  10.0\n",
       "17   9.0\n",
       "6    8.0\n",
       "23   7.0\n",
       "19   6.0\n",
       "4    5.0\n",
       "30   4.0\n",
       "28   3.0\n",
       "26   2.0\n",
       "5    1.0"
      ]
     },
     "execution_count": 20,
     "metadata": {},
     "output_type": "execute_result"
    }
   ],
   "source": [
    "bis_df.rank().sort_values(0,ascending = False)\n",
    "\n",
    "# ranking is in decreasing order\n",
    "# 2 is fraud \n",
    "# 29 refers to feature 27\n",
    "# 20 refers to feature 18\n",
    "# 18 refers to feature 16\n",
    "# 9 refers to feature 7\n",
    "# 7 refers to feature 5\n",
    "# 24 refers to feature 22\n",
    "# ...       feature 13\n",
    "#                feature 6\n",
    "#                feature 14\n",
    "#                Amount\n",
    "# derive top 5 and plot"
   ]
  },
  {
   "cell_type": "code",
   "execution_count": 39,
   "metadata": {},
   "outputs": [
    {
     "data": {
      "text/plain": [
       "<matplotlib.axes._subplots.AxesSubplot at 0x7f83604a2160>"
      ]
     },
     "execution_count": 39,
     "metadata": {},
     "output_type": "execute_result"
    },
    {
     "data": {
      "image/png": "[encoded data removed]",
      "text/plain": [
       "<Figure size 432x288 with 1 Axes>"
      ]
     },
     "metadata": {
      "needs_background": "light"
     },
     "output_type": "display_data"
    }
   ],
   "source": [
    "sns.scatterplot(x=df_data_1['Feature 27'],y=df_data_1['Fraud? (1: Fraud, 0:  No Fraud)'])"
   ]
  },
  {
   "cell_type": "code",
   "execution_count": 40,
   "metadata": {},
   "outputs": [
    {
     "data": {
      "text/plain": [
       "<matplotlib.axes._subplots.AxesSubplot at 0x7f83604a2828>"
      ]
     },
     "execution_count": 40,
     "metadata": {},
     "output_type": "execute_result"
    },
    {
     "data": {
      "image/png": "[encoded data removed]",
      "text/plain": [
       "<Figure size 432x288 with 1 Axes>"
      ]
     },
     "metadata": {
      "needs_background": "light"
     },
     "output_type": "display_data"
    }
   ],
   "source": [
    "sns.scatterplot(x=df_data_1['Feature 18'],y=df_data_1['Fraud? (1: Fraud, 0:  No Fraud)'])"
   ]
  },
  {
   "cell_type": "code",
   "execution_count": 41,
   "metadata": {},
   "outputs": [
    {
     "data": {
      "text/plain": [
       "<matplotlib.axes._subplots.AxesSubplot at 0x7f835b07c978>"
      ]
     },
     "execution_count": 41,
     "metadata": {},
     "output_type": "execute_result"
    },
    {
     "data": {
      "image/png": "[encoded data removed]",
      "text/plain": [
       "<Figure size 432x288 with 1 Axes>"
      ]
     },
     "metadata": {
      "needs_background": "light"
     },
     "output_type": "display_data"
    }
   ],
   "source": [
    "sns.scatterplot(x=df_data_1['Feature 16'],y=df_data_1['Fraud? (1: Fraud, 0:  No Fraud)'])"
   ]
  },
  {
   "cell_type": "code",
   "execution_count": 42,
   "metadata": {},
   "outputs": [
    {
     "data": {
      "text/plain": [
       "<matplotlib.axes._subplots.AxesSubplot at 0x7f835fb78ef0>"
      ]
     },
     "execution_count": 42,
     "metadata": {},
     "output_type": "execute_result"
    },
    {
     "data": {
      "image/png": "[encoded data removed]",
      "text/plain": [
       "<Figure size 432x288 with 1 Axes>"
      ]
     },
     "metadata": {
      "needs_background": "light"
     },
     "output_type": "display_data"
    }
   ],
   "source": [
    "sns.scatterplot(x=df_data_1['Feature 7'],y=df_data_1['Fraud? (1: Fraud, 0:  No Fraud)'])"
   ]
  },
  {
   "cell_type": "code",
   "execution_count": 43,
   "metadata": {},
   "outputs": [
    {
     "data": {
      "text/plain": [
       "<matplotlib.axes._subplots.AxesSubplot at 0x7f835b087198>"
      ]
     },
     "execution_count": 43,
     "metadata": {},
     "output_type": "execute_result"
    },
    {
     "data": {
      "image/png": "[encoded data removed]",
      "text/plain": [
       "<Figure size 432x288 with 1 Axes>"
      ]
     },
     "metadata": {
      "needs_background": "light"
     },
     "output_type": "display_data"
    }
   ],
   "source": [
    "sns.scatterplot(x=df_data_1['Feature 5'],y=df_data_1['Fraud? (1: Fraud, 0:  No Fraud)'])"
   ]
  },
  {
   "cell_type": "code",
   "execution_count": 44,
   "metadata": {},
   "outputs": [
    {
     "data": {
      "text/plain": [
       "<matplotlib.axes._subplots.AxesSubplot at 0x7f8360412b00>"
      ]
     },
     "execution_count": 44,
     "metadata": {},
     "output_type": "execute_result"
    },
    {
     "data": {
      "image/png": "[encoded data removed]",
      "text/plain": [
       "<Figure size 432x288 with 1 Axes>"
      ]
     },
     "metadata": {
      "needs_background": "light"
     },
     "output_type": "display_data"
    }
   ],
   "source": [
    "sns.scatterplot(x=df_data_1['Feature 22'],y=df_data_1['Fraud? (1: Fraud, 0:  No Fraud)'])"
   ]
  },
  {
   "cell_type": "code",
   "execution_count": 45,
   "metadata": {},
   "outputs": [
    {
     "data": {
      "text/plain": [
       "<matplotlib.axes._subplots.AxesSubplot at 0x7f835fb99710>"
      ]
     },
     "execution_count": 45,
     "metadata": {},
     "output_type": "execute_result"
    },
    {
     "data": {
      "image/png": "[encoded data removed]",
      "text/plain": [
       "<Figure size 432x288 with 1 Axes>"
      ]
     },
     "metadata": {
      "needs_background": "light"
     },
     "output_type": "display_data"
    }
   ],
   "source": [
    "sns.scatterplot(x=df_data_1['Feature 13'],y=df_data_1['Fraud? (1: Fraud, 0:  No Fraud)'])"
   ]
  },
  {
   "cell_type": "code",
   "execution_count": 46,
   "metadata": {},
   "outputs": [
    {
     "data": {
      "text/plain": [
       "<matplotlib.axes._subplots.AxesSubplot at 0x7f835eb8a518>"
      ]
     },
     "execution_count": 46,
     "metadata": {},
     "output_type": "execute_result"
    },
    {
     "data": {
      "image/png": "[encoded data removed]",
      "text/plain": [
       "<Figure size 432x288 with 1 Axes>"
      ]
     },
     "metadata": {
      "needs_background": "light"
     },
     "output_type": "display_data"
    }
   ],
   "source": [
    "sns.scatterplot(x=df_data_1['Feature 6'],y=df_data_1['Fraud? (1: Fraud, 0:  No Fraud)'])"
   ]
  },
  {
   "cell_type": "code",
   "execution_count": 52,
   "metadata": {},
   "outputs": [
    {
     "data": {
      "text/plain": [
       "11.05900429"
      ]
     },
     "execution_count": 52,
     "metadata": {},
     "output_type": "execute_result"
    }
   ],
   "source": [
    "df_data_1.loc[df_data_1['Fraud? (1: Fraud, 0:  No Fraud)'] == 1]['Feature 6'].max()"
   ]
  },
  {
   "cell_type": "code",
   "execution_count": 51,
   "metadata": {},
   "outputs": [
    {
     "data": {
      "text/plain": [
       "-4.1281858289999995"
      ]
     },
     "execution_count": 51,
     "metadata": {},
     "output_type": "execute_result"
    }
   ],
   "source": [
    "df_data_1.loc[df_data_1['Fraud? (1: Fraud, 0:  No Fraud)'] == 1]['Feature 6'].min()"
   ]
  },
  {
   "cell_type": "code",
   "execution_count": 47,
   "metadata": {},
   "outputs": [
    {
     "data": {
      "text/plain": [
       "<matplotlib.axes._subplots.AxesSubplot at 0x7f835fbb9898>"
      ]
     },
     "execution_count": 47,
     "metadata": {},
     "output_type": "execute_result"
    },
    {
     "data": {
      "image/png": "[encoded data removed]",
      "text/plain": [
       "<Figure size 432x288 with 1 Axes>"
      ]
     },
     "metadata": {
      "needs_background": "light"
     },
     "output_type": "display_data"
    }
   ],
   "source": [
    "sns.scatterplot(x=df_data_1['Feature 14'],y=df_data_1['Fraud? (1: Fraud, 0:  No Fraud)'])"
   ]
  },
  {
   "cell_type": "code",
   "execution_count": 55,
   "metadata": {},
   "outputs": [
    {
     "data": {
      "text/plain": [
       "-1.869290476"
      ]
     },
     "execution_count": 55,
     "metadata": {},
     "output_type": "execute_result"
    }
   ],
   "source": [
    "df_data_1.loc[df_data_1['Fraud? (1: Fraud, 0:  No Fraud)'] == 1]['Feature 14'].min()"
   ]
  },
  {
   "cell_type": "code",
   "execution_count": 56,
   "metadata": {},
   "outputs": [
    {
     "data": {
      "text/plain": [
       "1.779363852"
      ]
     },
     "execution_count": 56,
     "metadata": {},
     "output_type": "execute_result"
    }
   ],
   "source": [
    "df_data_1.loc[df_data_1['Fraud? (1: Fraud, 0:  No Fraud)'] == 1]['Feature 14'].max()"
   ]
  },
  {
   "cell_type": "code",
   "execution_count": null,
   "metadata": {},
   "outputs": [],
   "source": [
    "# ranking is in decreasing order\n",
    "# 2 is fraud \n",
    "# 29 refers to feature 27\n",
    "# 20 refers to feature 18\n",
    "# 18 refers to feature 16\n",
    "# 9 refers to feature 7\n",
    "# 7 refers to feature 5\n",
    "# 24 refers to feature 22\n",
    "# ...       feature 13\n",
    "#                feature 6\n",
    "#                feature 14\n",
    "#                Amount\n",
    "# derive top 5 and plot"
   ]
  },
  {
   "cell_type": "code",
   "execution_count": 21,
   "metadata": {},
   "outputs": [
    {
     "name": "stderr",
     "output_type": "stream",
     "text": [
      "/opt/conda/lib/python3.6/site-packages/sklearn/utils/validation.py:752: DataConversionWarning: A column-vector y was passed when a 1d array was expected. Please change the shape of y to (n_samples, ), for example using ravel().\n",
      "  y = column_or_1d(y, warn=True)\n",
      "/opt/conda/lib/python3.6/site-packages/sklearn/linear_model/logistic.py:432: FutureWarning: Default solver will be changed to 'lbfgs' in 0.22. Specify a solver to silence this warning.\n",
      "  FutureWarning)\n",
      "/opt/conda/lib/python3.6/site-packages/sklearn/linear_model/logistic.py:432: FutureWarning: Default solver will be changed to 'lbfgs' in 0.22. Specify a solver to silence this warning.\n",
      "  FutureWarning)\n",
      "/opt/conda/lib/python3.6/site-packages/sklearn/linear_model/logistic.py:432: FutureWarning: Default solver will be changed to 'lbfgs' in 0.22. Specify a solver to silence this warning.\n",
      "  FutureWarning)\n",
      "/opt/conda/lib/python3.6/site-packages/sklearn/linear_model/logistic.py:432: FutureWarning: Default solver will be changed to 'lbfgs' in 0.22. Specify a solver to silence this warning.\n",
      "  FutureWarning)\n",
      "/opt/conda/lib/python3.6/site-packages/sklearn/linear_model/logistic.py:432: FutureWarning: Default solver will be changed to 'lbfgs' in 0.22. Specify a solver to silence this warning.\n",
      "  FutureWarning)\n",
      "/opt/conda/lib/python3.6/site-packages/sklearn/linear_model/logistic.py:432: FutureWarning: Default solver will be changed to 'lbfgs' in 0.22. Specify a solver to silence this warning.\n",
      "  FutureWarning)\n"
     ]
    },
    {
     "name": "stdout",
     "output_type": "stream",
     "text": [
      "Num Features: 5\n",
      "Selected Features: [ True  True  True False  True  True False False False False]\n",
      "Feature Ranking: [1 1 1 2 1 1 5 3 4 6]\n"
     ]
    }
   ],
   "source": [
    "from sklearn.feature_selection import RFE\n",
    "from sklearn.linear_model import LogisticRegression\n",
    "model = LogisticRegression()\n",
    "X = df_data_1[['Feature 27','Feature 18','Feature 16','Feature 7','Feature 5','Feature 22','Feature 13','Feature 6','Feature 14','Amount']]\n",
    "Y= df_data_1[['Fraud? (1: Fraud, 0:  No Fraud)']]\n",
    "X_train, X_test, y_train, y_test = train_test_split(X, Y, test_size=0.2,)\n",
    "rfe = RFE(model, 5)\n",
    "fit = rfe.fit(X, Y)\n",
    "print(\"Num Features: %s\" % (fit.n_features_))\n",
    "print(\"Selected Features: %s\" % (fit.support_))\n",
    "print(\"Feature Ranking: %s\" % (fit.ranking_))"
   ]
  },
  {
   "cell_type": "code",
   "execution_count": 22,
   "metadata": {},
   "outputs": [
    {
     "name": "stdout",
     "output_type": "stream",
     "text": [
      "(182275, 5) (182275, 1)\n",
      "(45569, 5) (45569, 1)\n"
     ]
    },
    {
     "name": "stderr",
     "output_type": "stream",
     "text": [
      "/opt/conda/lib/python3.6/site-packages/sklearn/linear_model/logistic.py:432: FutureWarning: Default solver will be changed to 'lbfgs' in 0.22. Specify a solver to silence this warning.\n",
      "  FutureWarning)\n",
      "/opt/conda/lib/python3.6/site-packages/sklearn/utils/validation.py:752: DataConversionWarning: A column-vector y was passed when a 1d array was expected. Please change the shape of y to (n_samples, ), for example using ravel().\n",
      "  y = column_or_1d(y, warn=True)\n"
     ]
    }
   ],
   "source": [
    "from sklearn.feature_selection import RFE\n",
    "from sklearn.linear_model import LogisticRegression\n",
    "model = LogisticRegression()\n",
    "X = df_data_1[['Feature 27','Feature 18','Feature 16','Feature 5','Feature 22']]\n",
    "Y= df_data_1[['Fraud? (1: Fraud, 0:  No Fraud)']]\n",
    "X_train, X_test, y_train, y_test = train_test_split(X, Y, test_size=0.2,)\n",
    "print(X_train.shape, y_train.shape)\n",
    "print(X_test.shape, y_test.shape)\n",
    "model.fit(X_train, y_train)\n",
    "y_pred = model.predict_proba(X_test)\n",
    "y_pred = pd.DataFrame(y_pred)\n",
    "y_pred = y_pred.assign(fraud = y_test['Fraud? (1: Fraud, 0:  No Fraud)'].values)"
   ]
  },
  {
   "cell_type": "code",
   "execution_count": 23,
   "metadata": {},
   "outputs": [
    {
     "name": "stdout",
     "output_type": "stream",
     "text": [
      "Total Fraudulent Transactions:\n",
      "93\n",
      "Predicted Fraudulent Transactions with prob over 0.9:\n",
      "35\n",
      "Predicted Fraudulent Transactions with prob over 0.5:\n",
      "15\n",
      "unpredicatble for fraud: \n",
      "43\n",
      "nonFraudulent Transactions\n",
      "45476\n",
      "Predicted NonFraudulent Transactions with prob over 0.9:\n",
      "45458\n",
      "Predicted NonFraudulent Transactions with prob over 0.5:\n",
      "15\n",
      "unpredicatble for non fraud: \n",
      "3\n"
     ]
    }
   ],
   "source": [
    "print(\"Total Fraudulent Transactions:\")\n",
    "y_pred_fraud = y_pred.loc[y_pred['fraud']==1] # get fraud transactions\n",
    "print(y_pred_fraud[1].count())\n",
    "print(\"Predicted Fraudulent Transactions with prob over 0.9:\")\n",
    "print(y_pred_fraud[1].loc[y_pred_fraud[1]>0.9].count())\n",
    "print(\"Predicted Fraudulent Transactions with prob over 0.5:\")\n",
    "print(y_pred_fraud[1].loc[y_pred_fraud[1]>0.5].count() - y_pred_fraud[1].loc[y_pred_fraud[1]>0.9].count())\n",
    "print(\"unpredicatble for fraud: \")\n",
    "print(y_pred_fraud[1].loc[y_pred_fraud[1]<=0.5].count())\n",
    "print(\"nonFraudulent Transactions\")\n",
    "y_pred_nonfraud = y_pred.loc[y_pred['fraud']==0] # get nonfraudulent transactions\n",
    "print(y_pred_nonfraud[0].count())\n",
    "print(\"Predicted NonFraudulent Transactions with prob over 0.9:\")\n",
    "print(y_pred_nonfraud[0].loc[y_pred_nonfraud[0]>0.9].count())\n",
    "print(\"Predicted NonFraudulent Transactions with prob over 0.5:\")\n",
    "print(y_pred_nonfraud[0].loc[y_pred_nonfraud[0]>0.5].count()-y_pred_nonfraud[0].loc[y_pred_nonfraud[0]>0.9].count())\n",
    "print(\"unpredicatble for non fraud: \" )\n",
    "print(y_pred_nonfraud[0].loc[y_pred_nonfraud[0]<=0.5].count())"
   ]
  },
  {
   "cell_type": "code",
   "execution_count": 25,
   "metadata": {},
   "outputs": [
    {
     "name": "stderr",
     "output_type": "stream",
     "text": [
      "/opt/conda/lib/python3.6/site-packages/sklearn/utils/validation.py:752: DataConversionWarning: A column-vector y was passed when a 1d array was expected. Please change the shape of y to (n_samples, ), for example using ravel().\n",
      "  y = column_or_1d(y, warn=True)\n"
     ]
    },
    {
     "name": "stdout",
     "output_type": "stream",
     "text": [
      "Num Features: 5\n",
      "Selected Features: [ True  True  True  True False False False False False  True]\n",
      "Feature Ranking: [1 1 1 1 3 5 4 2 6 1]\n"
     ]
    }
   ],
   "source": [
    "# ranking is in decreasing order\n",
    "# 2 is fraud \n",
    "# 29 refers to feature 27\n",
    "# 20 refers to feature 18\n",
    "# 18 refers to feature 16\n",
    "# 9 refers to feature 7\n",
    "# 7 refers to feature 5\n",
    "# 24 refers to feature 22\n",
    "# ...       feature 13\n",
    "#                feature 6\n",
    "#                feature 14\n",
    "#                Amount\n",
    "# derive top 5 and plot\n",
    "\n",
    "X = df_data_1[['Feature 27','Feature 18','Feature 16','Feature 7','Feature 5','Feature 22','Feature 13','Feature 6','Feature 14','Amount']]\n",
    "Y = df_data_1[['Fraud? (1: Fraud, 0:  No Fraud)']]\n",
    "model = XGBClassifier()\n",
    "rfe = RFE(model, 5)\n",
    "fit = rfe.fit(X, Y)\n",
    "print(\"Num Features: %s\" % (fit.n_features_))\n",
    "print(\"Selected Features: %s\" % (fit.support_))\n",
    "print(\"Feature Ranking: %s\" % (fit.ranking_))"
   ]
  },
  {
   "cell_type": "code",
   "execution_count": 71,
   "metadata": {},
   "outputs": [
    {
     "name": "stderr",
     "output_type": "stream",
     "text": [
      "/opt/conda/lib/python3.6/site-packages/sklearn/preprocessing/label.py:219: DataConversionWarning: A column-vector y was passed when a 1d array was expected. Please change the shape of y to (n_samples, ), for example using ravel().\n",
      "  y = column_or_1d(y, warn=True)\n",
      "/opt/conda/lib/python3.6/site-packages/sklearn/preprocessing/label.py:252: DataConversionWarning: A column-vector y was passed when a 1d array was expected. Please change the shape of y to (n_samples, ), for example using ravel().\n",
      "  y = column_or_1d(y, warn=True)\n"
     ]
    }
   ],
   "source": [
    "X = df_data_1[['Feature 27','Feature 18','Feature 16','Feature 7','Amount']]\n",
    "Y= df_data_1[['Fraud? (1: Fraud, 0:  No Fraud)']]\n",
    "X_train, X_test, y_train, y_test = train_test_split(X, Y, test_size=0.2,)\n",
    "model = XGBClassifier()\n",
    "model.fit(X_train, y_train)\n",
    "y_pred = model.predict_proba(X_test)\n",
    "y_pred = pd.DataFrame(y_pred)\n",
    "y_pred = y_pred.assign(fraud = y_test['Fraud? (1: Fraud, 0:  No Fraud)'].values)"
   ]
  },
  {
   "cell_type": "code",
   "execution_count": 72,
   "metadata": {},
   "outputs": [
    {
     "name": "stdout",
     "output_type": "stream",
     "text": [
      "Total Fraudulent Transactions:\n",
      "71\n",
      "Predicted Fraudulent Transactions with prob over 0.9:\n",
      "32\n",
      "Predicted Fraudulent Transactions with prob over 0.5:\n",
      "16\n",
      "unpredicatble for fraud: \n",
      "23\n",
      "nonFraudulent Transactions\n",
      "45498\n",
      "Predicted NonFraudulent Transactions with prob over 0.9:\n",
      "45478\n",
      "Predicted NonFraudulent Transactions with prob over 0.5:\n",
      "16\n",
      "unpredicatble for non fraud: \n",
      "4\n"
     ]
    }
   ],
   "source": [
    "print(\"Total Fraudulent Transactions:\")\n",
    "y_pred_fraud = y_pred.loc[y_pred['fraud']==1] # get fraud transactions\n",
    "print(y_pred_fraud[1].count())\n",
    "print(\"Predicted Fraudulent Transactions with prob over 0.9:\")\n",
    "print(y_pred_fraud[1].loc[y_pred_fraud[1]>0.9].count())\n",
    "print(\"Predicted Fraudulent Transactions with prob over 0.5:\")\n",
    "print(y_pred_fraud[1].loc[y_pred_fraud[1]>0.5].count() - y_pred_fraud[1].loc[y_pred_fraud[1]>0.9].count())\n",
    "print(\"unpredicatble for fraud: \")\n",
    "print(y_pred_fraud[1].loc[y_pred_fraud[1]<=0.5].count())\n",
    "print(\"nonFraudulent Transactions\")\n",
    "y_pred_nonfraud = y_pred.loc[y_pred['fraud']==0] # get nonfraudulent transactions\n",
    "print(y_pred_nonfraud[0].count())\n",
    "print(\"Predicted NonFraudulent Transactions with prob over 0.9:\")\n",
    "print(y_pred_nonfraud[0].loc[y_pred_nonfraud[0]>0.9].count())\n",
    "print(\"Predicted NonFraudulent Transactions with prob over 0.5:\")\n",
    "print(y_pred_nonfraud[0].loc[y_pred_nonfraud[0]>0.5].count()-y_pred_nonfraud[0].loc[y_pred_nonfraud[0]>0.9].count())\n",
    "print(\"unpredicatble for non fraud: \" )\n",
    "print(y_pred_nonfraud[0].loc[y_pred_nonfraud[0]<=0.5].count())"
   ]
  },
  {
   "cell_type": "code",
   "execution_count": null,
   "metadata": {},
   "outputs": [],
   "source": [
    "X = df_data_1[['Feature 3','Feature 26','Feature 21','Feature 2','Feature 17']]\n",
    "Y= df_data_1[['Fraud? (1: Fraud, 0:  No Fraud)']]\n",
    "X_train, X_test, y_train, y_test = train_test_split(X, Y, test_size=0.2,)\n",
    "model = LogisticRegression()\n",
    "model.fit(X_train, y_train)\n",
    "y_pred = model.predict_proba(X_test)\n",
    "y_pred = pd.DataFrame(y_pred)\n",
    "y_pred = y_pred.assign(fraud = y_test['Fraud? (1: Fraud, 0:  No Fraud)'].values)"
   ]
  },
  {
   "cell_type": "code",
   "execution_count": null,
   "metadata": {},
   "outputs": [],
   "source": [
    "print(\"Total Fraudulent Transactions:\")\n",
    "y_pred_fraud = y_pred.loc[y_pred['fraud']==1] # get fraud transactions\n",
    "print(y_pred_fraud[1].count())\n",
    "print(\"Predicted Fraudulent Transactions with prob over 0.9:\")\n",
    "print(y_pred_fraud[1].loc[y_pred_fraud[1]>0.9].count())\n",
    "print(\"Predicted Fraudulent Transactions with prob over 0.5:\")\n",
    "print(y_pred_fraud[1].loc[y_pred_fraud[1]>0.5].count() - y_pred_fraud[1].loc[y_pred_fraud[1]>0.9].count())\n",
    "print(\"unpredicatble for fraud: \")\n",
    "print(y_pred_fraud[1].loc[y_pred_fraud[1]<=0.5].count())\n",
    "print(\"nonFraudulent Transactions\")\n",
    "y_pred_nonfraud = y_pred.loc[y_pred['fraud']==0] # get nonfraudulent transactions\n",
    "print(y_pred_nonfraud[0].count())\n",
    "print(\"Predicted NonFraudulent Transactions with prob over 0.9:\")\n",
    "print(y_pred_nonfraud[0].loc[y_pred_nonfraud[0]>0.9].count())\n",
    "print(\"Predicted NonFraudulent Transactions with prob over 0.5:\")\n",
    "print(y_pred_nonfraud[0].loc[y_pred_nonfraud[0]>0.5].count()-y_pred_nonfraud[0].loc[y_pred_nonfraud[0]>0.9].count())\n",
    "print(\"unpredicatble for non fraud: \" )\n",
    "print(y_pred_nonfraud[0].loc[y_pred_nonfraud[0]<=0.5].count())"
   ]
  },
  {
   "cell_type": "code",
   "execution_count": null,
   "metadata": {},
   "outputs": [],
   "source": []
  },
  {
   "cell_type": "code",
   "execution_count": 27,
   "metadata": {},
   "outputs": [
    {
     "name": "stdout",
     "output_type": "stream",
     "text": [
      "227844\n",
      "0    0.0\n",
      "1    0.0\n",
      "2    0.0\n",
      "3    0.0\n",
      "4    0.0\n",
      "Name: Feature 3 engineered, dtype: float64\n"
     ]
    }
   ],
   "source": [
    "tmp_feature_3 = ()\n",
    "for i in df_data_1['Feature 3']:\n",
    "    if i > -17.1:\n",
    "        tmp_feature_3 = np.append(tmp_feature_3, 0)\n",
    "    else:\n",
    "        tmp_feature_3 = np.append(tmp_feature_3,1)\n",
    "print(len(tmp_feature_3))\n",
    "df_data_1['Feature 3 engineered'] = tmp_feature_3\n",
    "print(df_data_1['Feature 3 engineered'].head())\n",
    "del tmp_feature_3"
   ]
  },
  {
   "cell_type": "code",
   "execution_count": 28,
   "metadata": {},
   "outputs": [
    {
     "name": "stdout",
     "output_type": "stream",
     "text": [
      "227844\n",
      "0    0.0\n",
      "1    0.0\n",
      "2    0.0\n",
      "3    0.0\n",
      "4    0.0\n",
      "Name: Feature 28 engineered, dtype: float64\n"
     ]
    }
   ],
   "source": [
    "tmp_feature_28 = ()\n",
    "for i in df_data_1['Feature 28']:\n",
    "    if i > -14.75:\n",
    "        tmp_feature_28 = np.append(tmp_feature_28, 0)\n",
    "    else:\n",
    "        tmp_feature_28 = np.append(tmp_feature_28,1)\n",
    "print(len(tmp_feature_28))\n",
    "df_data_1['Feature 28 engineered'] = tmp_feature_28\n",
    "print(df_data_1['Feature 28 engineered'].head())"
   ]
  },
  {
   "cell_type": "code",
   "execution_count": 29,
   "metadata": {},
   "outputs": [
    {
     "name": "stdout",
     "output_type": "stream",
     "text": [
      "227844\n",
      "0    0.0\n",
      "1    0.0\n",
      "2    0.0\n",
      "3    0.0\n",
      "4    0.0\n",
      "Name: Feature 26 engineered, dtype: float64\n"
     ]
    }
   ],
   "source": [
    "tmp_feature_26 = ()\n",
    "for i in df_data_1['Feature 26']:\n",
    "    if i > -15.15:\n",
    "        tmp_feature_26 = np.append(tmp_feature_26, 0)\n",
    "    else:\n",
    "        tmp_feature_26 = np.append(tmp_feature_26,1)\n",
    "print(len(tmp_feature_26))\n",
    "df_data_1['Feature 26 engineered'] = tmp_feature_26\n",
    "print(df_data_1['Feature 26 engineered'].head())"
   ]
  },
  {
   "cell_type": "code",
   "execution_count": 30,
   "metadata": {},
   "outputs": [
    {
     "name": "stdout",
     "output_type": "stream",
     "text": [
      "227844\n",
      "0    0.0\n",
      "1    0.0\n",
      "2    0.0\n",
      "3    0.0\n",
      "4    0.0\n",
      "Name: Feature 2 engineered, dtype: float64\n"
     ]
    }
   ],
   "source": [
    "tmp_feature_2 = ()\n",
    "for i in df_data_1['Feature 2']:\n",
    "    if i > -10.12:\n",
    "        tmp_feature_2 = np.append(tmp_feature_2, 0)\n",
    "    else:\n",
    "        tmp_feature_2 = np.append(tmp_feature_2,1)\n",
    "print(len(tmp_feature_2))\n",
    "df_data_1['Feature 2 engineered'] = tmp_feature_2\n",
    "print(df_data_1['Feature 2 engineered'].head())"
   ]
  },
  {
   "cell_type": "code",
   "execution_count": 31,
   "metadata": {},
   "outputs": [
    {
     "name": "stdout",
     "output_type": "stream",
     "text": [
      "227844\n",
      "0    0.0\n",
      "1    0.0\n",
      "2    0.0\n",
      "3    0.0\n",
      "4    0.0\n",
      "Name: Feature 4 engineered, dtype: float64\n"
     ]
    }
   ],
   "source": [
    "tmp_feature_4 = ()\n",
    "for i in df_data_1['Feature 4']:\n",
    "    if i > -5.37:\n",
    "        tmp_feature_4 = np.append(tmp_feature_4, 0)\n",
    "    else:\n",
    "        tmp_feature_4 = np.append(tmp_feature_4,1)\n",
    "print(len(tmp_feature_4))\n",
    "df_data_1['Feature 4 engineered'] = tmp_feature_4\n",
    "print(df_data_1['Feature 4 engineered'].head())"
   ]
  },
  {
   "cell_type": "code",
   "execution_count": 32,
   "metadata": {},
   "outputs": [
    {
     "name": "stdout",
     "output_type": "stream",
     "text": [
      "227844\n",
      "0    1.0\n",
      "1    1.0\n",
      "2    1.0\n",
      "3    1.0\n",
      "4    1.0\n",
      "Name: Feature 6 engineered, dtype: float64\n"
     ]
    }
   ],
   "source": [
    "tmp_feature_6 = ()\n",
    "for i in df_data_1['Feature 6']:\n",
    "    if i > -4.13 and i < 11.06:\n",
    "        tmp_feature_6 = np.append(tmp_feature_6, 1)\n",
    "    else:\n",
    "        tmp_feature_6 = np.append(tmp_feature_6,0)\n",
    "print(len(tmp_feature_6))\n",
    "df_data_1['Feature 6 engineered'] = tmp_feature_6\n",
    "print(df_data_1['Feature 6 engineered'].head())"
   ]
  },
  {
   "cell_type": "code",
   "execution_count": 33,
   "metadata": {},
   "outputs": [
    {
     "name": "stdout",
     "output_type": "stream",
     "text": [
      "227844\n",
      "0    1.0\n",
      "1    1.0\n",
      "2    1.0\n",
      "3    1.0\n",
      "4    1.0\n",
      "Name: Feature 14 engineered, dtype: float64\n"
     ]
    }
   ],
   "source": [
    "tmp_feature_14 = ()\n",
    "for i in df_data_1['Feature 14']:\n",
    "    if i > -1.87 and i < 1.78:\n",
    "        tmp_feature_14 = np.append(tmp_feature_14, 1)\n",
    "    else:\n",
    "        tmp_feature_14 = np.append(tmp_feature_14,0)\n",
    "print(len(tmp_feature_14))\n",
    "df_data_1['Feature 14 engineered'] = tmp_feature_14\n",
    "print(df_data_1['Feature 14 engineered'].head())"
   ]
  },
  {
   "cell_type": "code",
   "execution_count": 82,
   "metadata": {},
   "outputs": [
    {
     "data": {
      "text/plain": [
       "<matplotlib.axes._subplots.AxesSubplot at 0x7f835b32ab70>"
      ]
     },
     "execution_count": 82,
     "metadata": {},
     "output_type": "execute_result"
    },
    {
     "data": {
      "image/png": "[encoded data removed]",
      "text/plain": [
       "<Figure size 432x288 with 1 Axes>"
      ]
     },
     "metadata": {
      "needs_background": "light"
     },
     "output_type": "display_data"
    }
   ],
   "source": [
    "sns.scatterplot(x=df_data_1['Feature 14 engineered'],y=df_data_1['Fraud? (1: Fraud, 0:  No Fraud)'])"
   ]
  },
  {
   "cell_type": "markdown",
   "metadata": {},
   "source": [
    "Total engineered features are:\n",
    "1) Feature 3\n",
    "2) Featuer 28\n",
    "3) 26\n",
    "4) 2\n",
    "5) 4\n",
    "6) 6\n",
    "7) 14"
   ]
  },
  {
   "cell_type": "code",
   "execution_count": 98,
   "metadata": {},
   "outputs": [
    {
     "name": "stdout",
     "output_type": "stream",
     "text": [
      "[-1.27186112e-002  1.26967561e-009  5.95387323e-003  4.48353802e-003\n",
      "  1.00000000e+000  0.00000000e+000 -6.75487529e-003  1.26270351e-003\n",
      " -2.20171062e-001  0.00000000e+000 -3.64373811e-001  0.00000000e+000\n",
      " -1.30390465e-001  0.00000000e+000  4.01359268e-002  7.15845937e-082\n",
      "  1.98847933e-002  2.25566763e-021  4.33581693e-002  3.07212788e-095\n",
      "  2.17517387e-003  2.99143703e-001 -3.40362879e-003  1.04237120e-001\n",
      " -5.97380931e-003  4.35150414e-003  1.12272504e-003  5.92022372e-001\n",
      "  3.07493755e-003  1.42170626e-001  2.15840550e-002  6.76878185e-025\n",
      "  7.10950409e-003  6.89792644e-004 -1.17083647e-001  0.00000000e+000\n",
      "  1.02592815e-001  0.00000000e+000 -2.19400218e-001  0.00000000e+000\n",
      "  1.39911132e-001  0.00000000e+000 -1.15750323e-001  0.00000000e+000\n",
      " -4.49947063e-002  2.01216305e-102 -2.17467847e-001  0.00000000e+000\n",
      "  2.33560209e-002  7.16137353e-029  2.90192265e-003  1.66000409e-001\n",
      " -3.12901454e-001  0.00000000e+000 -2.74406087e-003  1.90257392e-001\n",
      " -2.69285329e-001  0.00000000e+000  1.64505754e-001  0.00000000e+000\n",
      " -2.40081939e-001  0.00000000e+000 -1.02858978e-001  0.00000000e+000\n",
      "  3.49436193e-001  0.00000000e+000  2.54238783e-001  0.00000000e+000\n",
      "  3.52846181e-001  0.00000000e+000  2.67992973e-001  0.00000000e+000\n",
      "  4.12316806e-001  0.00000000e+000 -3.63763284e-003  8.25023608e-002\n",
      "  2.55766744e-003  2.22143996e-001]\n",
      "1.2696756142744025e-09\n",
      "1\n",
      "0.004483538020076627\n",
      "1\n",
      "0.0\n",
      "1\n",
      "0.0012627035069330266\n",
      "1\n",
      "0.0\n",
      "1\n",
      "0.0\n",
      "1\n",
      "0.0\n",
      "1\n",
      "7.158459368928011e-82\n",
      "1\n",
      "2.255667629872798e-21\n",
      "1\n",
      "3.072127875735202e-95\n",
      "1\n",
      "0.2991437031448084\n",
      "1\n",
      "0.10423711958297881\n",
      "1\n",
      "0.004351504141032912\n",
      "1\n",
      "0.5920223722940232\n",
      "1\n",
      "0.14217062569980565\n",
      "1\n",
      "6.768781849735663e-25\n",
      "1\n",
      "0.0006897926438683649\n",
      "1\n",
      "0.0\n",
      "1\n",
      "0.0\n",
      "1\n",
      "0.0\n",
      "1\n",
      "0.0\n",
      "1\n",
      "0.0\n",
      "1\n",
      "2.012163051312112e-102\n",
      "1\n",
      "0.0\n",
      "1\n",
      "7.161373527537182e-29\n",
      "1\n",
      "0.1660004090939864\n",
      "1\n",
      "0.0\n",
      "1\n",
      "0.19025739173315923\n",
      "1\n",
      "0.0\n",
      "1\n",
      "0.0\n",
      "1\n",
      "0.0\n",
      "1\n",
      "0.0\n",
      "1\n",
      "0.0\n",
      "1\n",
      "0.0\n",
      "1\n",
      "0.0\n",
      "1\n",
      "0.0\n",
      "1\n",
      "0.0\n",
      "1\n",
      "0.08250236081992703\n",
      "1\n",
      "0.2221439964819478\n",
      "1\n"
     ]
    },
    {
     "data": {
      "text/html": [
       "<div>\n",
       "<style scoped>\n",
       "    .dataframe tbody tr th:only-of-type {\n",
       "        vertical-align: middle;\n",
       "    }\n",
       "\n",
       "    .dataframe tbody tr th {\n",
       "        vertical-align: top;\n",
       "    }\n",
       "\n",
       "    .dataframe thead th {\n",
       "        text-align: right;\n",
       "    }\n",
       "</style>\n",
       "<table border=\"1\" class=\"dataframe\">\n",
       "  <thead>\n",
       "    <tr style=\"text-align: right;\">\n",
       "      <th></th>\n",
       "      <th>0</th>\n",
       "    </tr>\n",
       "  </thead>\n",
       "  <tbody>\n",
       "    <tr>\n",
       "      <th>2</th>\n",
       "      <td>39.0</td>\n",
       "    </tr>\n",
       "    <tr>\n",
       "      <th>36</th>\n",
       "      <td>38.0</td>\n",
       "    </tr>\n",
       "    <tr>\n",
       "      <th>34</th>\n",
       "      <td>37.0</td>\n",
       "    </tr>\n",
       "    <tr>\n",
       "      <th>32</th>\n",
       "      <td>36.0</td>\n",
       "    </tr>\n",
       "    <tr>\n",
       "      <th>35</th>\n",
       "      <td>35.0</td>\n",
       "    </tr>\n",
       "    <tr>\n",
       "      <th>33</th>\n",
       "      <td>34.0</td>\n",
       "    </tr>\n",
       "    <tr>\n",
       "      <th>29</th>\n",
       "      <td>33.0</td>\n",
       "    </tr>\n",
       "    <tr>\n",
       "      <th>20</th>\n",
       "      <td>32.0</td>\n",
       "    </tr>\n",
       "    <tr>\n",
       "      <th>18</th>\n",
       "      <td>31.0</td>\n",
       "    </tr>\n",
       "    <tr>\n",
       "      <th>9</th>\n",
       "      <td>30.0</td>\n",
       "    </tr>\n",
       "    <tr>\n",
       "      <th>7</th>\n",
       "      <td>29.0</td>\n",
       "    </tr>\n",
       "    <tr>\n",
       "      <th>24</th>\n",
       "      <td>28.0</td>\n",
       "    </tr>\n",
       "    <tr>\n",
       "      <th>15</th>\n",
       "      <td>27.0</td>\n",
       "    </tr>\n",
       "    <tr>\n",
       "      <th>8</th>\n",
       "      <td>26.0</td>\n",
       "    </tr>\n",
       "    <tr>\n",
       "      <th>16</th>\n",
       "      <td>25.0</td>\n",
       "    </tr>\n",
       "    <tr>\n",
       "      <th>1</th>\n",
       "      <td>24.0</td>\n",
       "    </tr>\n",
       "    <tr>\n",
       "      <th>14</th>\n",
       "      <td>23.0</td>\n",
       "    </tr>\n",
       "    <tr>\n",
       "      <th>25</th>\n",
       "      <td>22.0</td>\n",
       "    </tr>\n",
       "    <tr>\n",
       "      <th>38</th>\n",
       "      <td>21.0</td>\n",
       "    </tr>\n",
       "    <tr>\n",
       "      <th>10</th>\n",
       "      <td>20.0</td>\n",
       "    </tr>\n",
       "    <tr>\n",
       "      <th>13</th>\n",
       "      <td>19.0</td>\n",
       "    </tr>\n",
       "    <tr>\n",
       "      <th>27</th>\n",
       "      <td>18.0</td>\n",
       "    </tr>\n",
       "    <tr>\n",
       "      <th>11</th>\n",
       "      <td>17.0</td>\n",
       "    </tr>\n",
       "    <tr>\n",
       "      <th>37</th>\n",
       "      <td>16.0</td>\n",
       "    </tr>\n",
       "    <tr>\n",
       "      <th>12</th>\n",
       "      <td>15.0</td>\n",
       "    </tr>\n",
       "    <tr>\n",
       "      <th>3</th>\n",
       "      <td>14.0</td>\n",
       "    </tr>\n",
       "    <tr>\n",
       "      <th>0</th>\n",
       "      <td>13.0</td>\n",
       "    </tr>\n",
       "    <tr>\n",
       "      <th>22</th>\n",
       "      <td>12.0</td>\n",
       "    </tr>\n",
       "    <tr>\n",
       "      <th>31</th>\n",
       "      <td>11.0</td>\n",
       "    </tr>\n",
       "    <tr>\n",
       "      <th>21</th>\n",
       "      <td>10.0</td>\n",
       "    </tr>\n",
       "    <tr>\n",
       "      <th>17</th>\n",
       "      <td>9.0</td>\n",
       "    </tr>\n",
       "    <tr>\n",
       "      <th>6</th>\n",
       "      <td>8.0</td>\n",
       "    </tr>\n",
       "    <tr>\n",
       "      <th>23</th>\n",
       "      <td>7.0</td>\n",
       "    </tr>\n",
       "    <tr>\n",
       "      <th>19</th>\n",
       "      <td>6.0</td>\n",
       "    </tr>\n",
       "    <tr>\n",
       "      <th>4</th>\n",
       "      <td>5.0</td>\n",
       "    </tr>\n",
       "    <tr>\n",
       "      <th>30</th>\n",
       "      <td>4.0</td>\n",
       "    </tr>\n",
       "    <tr>\n",
       "      <th>28</th>\n",
       "      <td>3.0</td>\n",
       "    </tr>\n",
       "    <tr>\n",
       "      <th>26</th>\n",
       "      <td>2.0</td>\n",
       "    </tr>\n",
       "    <tr>\n",
       "      <th>5</th>\n",
       "      <td>1.0</td>\n",
       "    </tr>\n",
       "  </tbody>\n",
       "</table>\n",
       "</div>"
      ],
      "text/plain": [
       "       0\n",
       "2   39.0\n",
       "36  38.0\n",
       "34  37.0\n",
       "32  36.0\n",
       "35  35.0\n",
       "33  34.0\n",
       "29  33.0\n",
       "20  32.0\n",
       "18  31.0\n",
       "9   30.0\n",
       "7   29.0\n",
       "24  28.0\n",
       "15  27.0\n",
       "8   26.0\n",
       "16  25.0\n",
       "1   24.0\n",
       "14  23.0\n",
       "25  22.0\n",
       "38  21.0\n",
       "10  20.0\n",
       "13  19.0\n",
       "27  18.0\n",
       "11  17.0\n",
       "37  16.0\n",
       "12  15.0\n",
       "3   14.0\n",
       "0   13.0\n",
       "22  12.0\n",
       "31  11.0\n",
       "21  10.0\n",
       "17   9.0\n",
       "6    8.0\n",
       "23   7.0\n",
       "19   6.0\n",
       "4    5.0\n",
       "30   4.0\n",
       "28   3.0\n",
       "26   2.0\n",
       "5    1.0"
      ]
     },
     "execution_count": 98,
     "metadata": {},
     "output_type": "execute_result"
    }
   ],
   "source": [
    "bis_tmp = ()\n",
    "for columns in df_data_1:\n",
    "    bis = stats.pointbiserialr(df_data_1['Fraud? (1: Fraud, 0:  No Fraud)'],df_data_1[columns])\n",
    "    bis_tmp = np.append(bis_tmp,bis)\n",
    "print(bis_tmp)\n",
    "bis_tmp = list(bis_tmp)\n",
    "count = 0\n",
    "for i in bis_tmp:\n",
    "    if count % 2 is 1:\n",
    "        print(i)\n",
    "        bis_tmp.remove(i)\n",
    "        print(count)\n",
    "        count = count - 1\n",
    "    count = count + 1\n",
    "bis_df = pd.DataFrame(bis_tmp)\n",
    "bis_df.rank().sort_values(0,ascending = False)"
   ]
  },
  {
   "cell_type": "code",
   "execution_count": 101,
   "metadata": {},
   "outputs": [
    {
     "name": "stdout",
     "output_type": "stream",
     "text": [
      "Index(['Seconds since reference time', 'Amount',\n",
      "       'Fraud? (1: Fraud, 0:  No Fraud)', 'Feature 1', 'Feature 2',\n",
      "       'Feature 3', 'Feature 4', 'Feature 5', 'Feature 6', 'Feature 7',\n",
      "       'Feature 8', 'Feature 9', 'Feature 10', 'Feature 11', 'Feature 12',\n",
      "       'Feature 13', 'Feature 14', 'Feature 15', 'Feature 16', 'Feature 17',\n",
      "       'Feature 18', 'Feature 19', 'Feature 20', 'Feature 21', 'Feature 22',\n",
      "       'Feature 23', 'Feature 24', 'Feature 25', 'Feature 26', 'Feature 27',\n",
      "       'Feature 28', 'Feature 29', 'Feature 3 engineered',\n",
      "       'Feature 28 engineered', 'Feature 2 engineered',\n",
      "       'Feature 26 engineered', 'Feature 4 engineered', 'Feature 6 engineered',\n",
      "       'Feature 14 engineered'],\n",
      "      dtype='object')\n"
     ]
    }
   ],
   "source": [
    "#ranked by fraud, feature 4 engineered,feature 2 engineered,feature 3 engineered,feature 26 engineered,feature 28 engineered\n",
    "print(df_data_1.columns)\n"
   ]
  },
  {
   "cell_type": "code",
   "execution_count": 34,
   "metadata": {},
   "outputs": [
    {
     "name": "stderr",
     "output_type": "stream",
     "text": [
      "/opt/conda/lib/python3.6/site-packages/sklearn/preprocessing/label.py:219: DataConversionWarning: A column-vector y was passed when a 1d array was expected. Please change the shape of y to (n_samples, ), for example using ravel().\n",
      "  y = column_or_1d(y, warn=True)\n",
      "/opt/conda/lib/python3.6/site-packages/sklearn/preprocessing/label.py:252: DataConversionWarning: A column-vector y was passed when a 1d array was expected. Please change the shape of y to (n_samples, ), for example using ravel().\n",
      "  y = column_or_1d(y, warn=True)\n"
     ]
    }
   ],
   "source": [
    "#X = df_data_1[['Feature 27','Feature 18','Feature 16','Feature 7','Amount','Feature 3 engineered','Feature 3']]\n",
    "X = df_data_1[['Feature 27','Feature 18','Feature 16','Feature 7','Amount','Feature 3 engineered','Feature 28 engineered','Feature 2 engineered','Feature 26 engineered','Feature 4 engineered','Feature 6 engineered']]\n",
    "X_train, X_test, y_train, y_test = train_test_split(X, Y, test_size=0.2,)\n",
    "model = XGBClassifier()\n",
    "model.fit(X_train, y_train)\n",
    "y_pred = model.predict_proba(X_test)\n",
    "y_pred = pd.DataFrame(y_pred)\n",
    "y_pred = y_pred.assign(fraud = y_test['Fraud? (1: Fraud, 0:  No Fraud)'].values)"
   ]
  },
  {
   "cell_type": "code",
   "execution_count": 35,
   "metadata": {},
   "outputs": [
    {
     "name": "stdout",
     "output_type": "stream",
     "text": [
      "Total Fraudulent Transactions:\n",
      "79\n",
      "Predicted Fraudulent Transactions with prob over 0.9:\n",
      "31\n",
      "Predicted Fraudulent Transactions with prob over 0.5:\n",
      "16\n",
      "unpredicatble for fraud: \n",
      "32\n",
      "nonFraudulent Transactions\n",
      "45490\n",
      "Predicted NonFraudulent Transactions with prob over 0.9:\n",
      "45462\n",
      "Predicted NonFraudulent Transactions with prob over 0.5:\n",
      "23\n",
      "unpredicatble for non fraud: \n",
      "5\n"
     ]
    }
   ],
   "source": [
    "print(\"Total Fraudulent Transactions:\")\n",
    "y_pred_fraud = y_pred.loc[y_pred['fraud']==1] # get fraud transactions\n",
    "print(y_pred_fraud[1].count())\n",
    "print(\"Predicted Fraudulent Transactions with prob over 0.9:\")\n",
    "print(y_pred_fraud[1].loc[y_pred_fraud[1]>0.9].count())\n",
    "print(\"Predicted Fraudulent Transactions with prob over 0.5:\")\n",
    "print(y_pred_fraud[1].loc[y_pred_fraud[1]>0.5].count() - y_pred_fraud[1].loc[y_pred_fraud[1]>0.9].count())\n",
    "print(\"unpredicatble for fraud: \")\n",
    "print(y_pred_fraud[1].loc[y_pred_fraud[1]<=0.5].count())\n",
    "print(\"nonFraudulent Transactions\")\n",
    "y_pred_nonfraud = y_pred.loc[y_pred['fraud']==0] # get nonfraudulent transactions\n",
    "print(y_pred_nonfraud[0].count())\n",
    "print(\"Predicted NonFraudulent Transactions with prob over 0.9:\")\n",
    "print(y_pred_nonfraud[0].loc[y_pred_nonfraud[0]>0.9].count())\n",
    "print(\"Predicted NonFraudulent Transactions with prob over 0.5:\")\n",
    "print(y_pred_nonfraud[0].loc[y_pred_nonfraud[0]>0.5].count()-y_pred_nonfraud[0].loc[y_pred_nonfraud[0]>0.9].count())\n",
    "print(\"unpredicatble for non fraud: \" )\n",
    "print(y_pred_nonfraud[0].loc[y_pred_nonfraud[0]<=0.5].count())"
   ]
  },
  {
   "cell_type": "code",
   "execution_count": 168,
   "metadata": {},
   "outputs": [
    {
     "data": {
      "text/plain": [
       "0         0.0\n",
       "1         0.0\n",
       "2         0.0\n",
       "3         0.0\n",
       "4         0.0\n",
       "5         0.0\n",
       "6         0.0\n",
       "7         0.0\n",
       "8         0.0\n",
       "9         0.0\n",
       "10        0.0\n",
       "11        0.0\n",
       "12        0.0\n",
       "13        0.0\n",
       "14        0.0\n",
       "15        0.0\n",
       "16        0.0\n",
       "17        0.0\n",
       "18        0.0\n",
       "19        0.0\n",
       "20        0.0\n",
       "21        0.0\n",
       "22        0.0\n",
       "23        0.0\n",
       "24        0.0\n",
       "25        0.0\n",
       "26        0.0\n",
       "27        0.0\n",
       "28        0.0\n",
       "29        0.0\n",
       "         ... \n",
       "227814    0.0\n",
       "227815    0.0\n",
       "227816    0.0\n",
       "227817    0.0\n",
       "227818    0.0\n",
       "227819    0.0\n",
       "227820    0.0\n",
       "227821    0.0\n",
       "227822    0.0\n",
       "227823    0.0\n",
       "227824    0.0\n",
       "227825    0.0\n",
       "227826    0.0\n",
       "227827    0.0\n",
       "227828    0.0\n",
       "227829    0.0\n",
       "227830    0.0\n",
       "227831    0.0\n",
       "227832    0.0\n",
       "227833    0.0\n",
       "227834    0.0\n",
       "227835    0.0\n",
       "227836    0.0\n",
       "227837    0.0\n",
       "227838    0.0\n",
       "227839    0.0\n",
       "227840    0.0\n",
       "227841    0.0\n",
       "227842    0.0\n",
       "227843    0.0\n",
       "Name: Feature 3 engineered, Length: 227844, dtype: float64"
      ]
     },
     "execution_count": 168,
     "metadata": {},
     "output_type": "execute_result"
    }
   ],
   "source": [
    "df_data_1['Feature 3 engineered']"
   ]
  },
  {
   "cell_type": "code",
   "execution_count": 164,
   "metadata": {},
   "outputs": [
    {
     "name": "stdout",
     "output_type": "stream",
     "text": [
      "Total Fraudulent Transactions:\n",
      "0\n",
      "Predicted Fraudulent Transactions with prob over 0.9:\n",
      "0\n",
      "Predicted Fraudulent Transactions with prob over 0.5:\n",
      "0\n",
      "unpredicatble for fraud: \n",
      "0\n",
      "nonFraudulent Transactions\n",
      "0\n",
      "Predicted NonFraudulent Transactions with prob over 0.9:\n",
      "0\n",
      "Predicted NonFraudulent Transactions with prob over 0.5:\n",
      "0\n",
      "unpredicatble for non fraud: \n",
      "0\n"
     ]
    },
    {
     "name": "stderr",
     "output_type": "stream",
     "text": [
      "/opt/conda/lib/python3.6/site-packages/sklearn/utils/validation.py:752: DataConversionWarning: A column-vector y was passed when a 1d array was expected. Please change the shape of y to (n_samples, ), for example using ravel().\n",
      "  y = column_or_1d(y, warn=True)\n",
      "/opt/conda/lib/python3.6/site-packages/sklearn/discriminant_analysis.py:686: UserWarning: Variables are collinear\n",
      "  warnings.warn(\"Variables are collinear\")\n",
      "/opt/conda/lib/python3.6/site-packages/sklearn/discriminant_analysis.py:710: RuntimeWarning: divide by zero encountered in power\n",
      "  X2 = np.dot(Xm, R * (S ** (-0.5)))\n",
      "/opt/conda/lib/python3.6/site-packages/sklearn/discriminant_analysis.py:710: RuntimeWarning: invalid value encountered in multiply\n",
      "  X2 = np.dot(Xm, R * (S ** (-0.5)))\n",
      "/opt/conda/lib/python3.6/site-packages/sklearn/discriminant_analysis.py:713: RuntimeWarning: divide by zero encountered in log\n",
      "  u = np.asarray([np.sum(np.log(s)) for s in self.scalings_])\n",
      "/opt/conda/lib/python3.6/site-packages/sklearn/discriminant_analysis.py:710: RuntimeWarning: divide by zero encountered in power\n",
      "  X2 = np.dot(Xm, R * (S ** (-0.5)))\n",
      "/opt/conda/lib/python3.6/site-packages/sklearn/discriminant_analysis.py:710: RuntimeWarning: invalid value encountered in multiply\n",
      "  X2 = np.dot(Xm, R * (S ** (-0.5)))\n",
      "/opt/conda/lib/python3.6/site-packages/sklearn/discriminant_analysis.py:713: RuntimeWarning: divide by zero encountered in log\n",
      "  u = np.asarray([np.sum(np.log(s)) for s in self.scalings_])\n",
      "/opt/conda/lib/python3.6/site-packages/numpy/core/_methods.py:28: RuntimeWarning: invalid value encountered in reduce\n",
      "  return umr_maximum(a, axis, None, out, keepdims, initial)\n"
     ]
    }
   ],
   "source": [
    "#Total engineered features are:\n",
    "#1) Feature 3\n",
    "#2) Featuer 28\n",
    "#3) 26\n",
    "#4) 2\n",
    "#5) 4\n",
    "#6) 6\n",
    "#7) 14\n",
    "from sklearn.discriminant_analysis import QuadraticDiscriminantAnalysis\n",
    "X = df_data_1[['Feature 3','Feature 21','Feature 26','Feature 2','Feature 17','Feature 3 engineered']]\n",
    "Y = df_data_1[['Fraud? (1: Fraud, 0:  No Fraud)']]\n",
    "X_train, X_test, y_train, y_test = train_test_split(X, Y, test_size=0.2)\n",
    "classifier = QuadraticDiscriminantAnalysis() #0.8674698795180723\n",
    "classifier.fit(X_train, y_train)\n",
    "# Predict Results from PCA Model\n",
    "y_pred = classifier.predict(X_test)\n",
    "y_pred = classifier.predict_proba(X_test)\n",
    "y_pred = pd.DataFrame(y_pred)\n",
    "y_pred = y_pred.assign(fraud = y_test['Fraud? (1: Fraud, 0:  No Fraud)'].values)\n",
    "\n",
    "print(\"Total Fraudulent Transactions:\")\n",
    "y_pred_fraud = y_pred.loc[y_pred['fraud']==1] # get fraud transactions\n",
    "print(y_pred_fraud[1].count())\n",
    "print(\"Predicted Fraudulent Transactions with prob over 0.9:\")\n",
    "print(y_pred_fraud[1].loc[y_pred_fraud[1]>0.9].count())\n",
    "print(\"Predicted Fraudulent Transactions with prob over 0.5:\")\n",
    "print(y_pred_fraud[1].loc[y_pred_fraud[1]>0.5].count() - y_pred_fraud[1].loc[y_pred_fraud[1]>0.9].count())\n",
    "print(\"unpredicatble for fraud: \")\n",
    "print(y_pred_fraud[1].loc[y_pred_fraud[1]<=0.5].count())\n",
    "print(\"nonFraudulent Transactions\")\n",
    "y_pred_nonfraud = y_pred.loc[y_pred['fraud']==0] # get nonfraudulent transactions\n",
    "print(y_pred_nonfraud[0].count())\n",
    "print(\"Predicted NonFraudulent Transactions with prob over 0.9:\")\n",
    "print(y_pred_nonfraud[0].loc[y_pred_nonfraud[0]>0.9].count())\n",
    "print(\"Predicted NonFraudulent Transactions with prob over 0.5:\")\n",
    "print(y_pred_nonfraud[0].loc[y_pred_nonfraud[0]>0.5].count()-y_pred_nonfraud[0].loc[y_pred_nonfraud[0]>0.9].count())\n",
    "print(\"unpredicatble for non fraud: \" )\n",
    "print(y_pred_nonfraud[0].loc[y_pred_nonfraud[0]<=0.5].count())\n",
    "\n"
   ]
  }
 ],
 "metadata": {
  "kernelspec": {
   "display_name": "Python3.6",
   "language": "python",
   "name": "python3"
  },
  "language_info": {
   "codemirror_mode": {
    "name": "ipython",
    "version": 3
   },
   "file_extension": ".py",
   "mimetype": "text/x-python",
   "name": "python",
   "nbconvert_exporter": "python",
   "pygments_lexer": "ipython3",
   "version": "3.6.6"
  }
 },
 "nbformat": 4,
 "nbformat_minor": 2
}
